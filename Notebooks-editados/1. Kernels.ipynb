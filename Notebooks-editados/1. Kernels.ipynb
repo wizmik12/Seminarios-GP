{
 "cells": [
  {
   "cell_type": "markdown",
   "metadata": {},
   "source": [
    "# Seminarios de Procesos Gaussianos\n",
    "\n",
    "### Grupo de procesamiento de la información visual (VIP) "
   ]
  },
  {
   "cell_type": "markdown",
   "metadata": {},
   "source": [
    "<div style=\"text-align: right\"> Miguel López Pérez </div>"
   ]
  },
  {
   "cell_type": "markdown",
   "metadata": {},
   "source": [
    "En primer lugar, como para un buen conocimiento teórico de los procesos gaussianos recomendamos la siguiente bibliografía:\n",
    "\n",
    "- [Gaussian Processes for Machine Learning](http://www.gaussianprocess.org/gpml/) de Carl Edward Rasmussen and Christopher K. I. Williams\n",
    "- *Machine learning : a probabilistic perspective* de Kevin Murphy\n",
    "- [Pattern Recognition and Machine Learning](https://www.microsoft.com/en-us/research/people/cmbishop/#!prml-book) de Christopher Bishop"
   ]
  },
  {
   "cell_type": "markdown",
   "metadata": {},
   "source": [
    "# 0. Librerías a usar"
   ]
  },
  {
   "cell_type": "markdown",
   "metadata": {},
   "source": [
    "Los ejemplos de estos notebooks van a estar basados en la librería gpflow. Es una extensión de GPy con la ventaja \n",
    "de que se pueden cargar cálculos en la GPU al estar basado en tensorflow. Al ser un proyecto open source podemos acceder a su [documentación](https://gpflow.readthedocs.io/en/develop/intro.html) y [código](https://github.com/GPflow/GPflow/tree/master). También nos hará falta tener instalada la librería scikit-learn."
   ]
  },
  {
   "cell_type": "code",
   "execution_count": 3,
   "metadata": {},
   "outputs": [],
   "source": [
    "import gpflow\n",
    "import numpy as np\n",
    "import matplotlib.pyplot as plt\n",
    "plt.style.use('ggplot')\n",
    "import tensorflow as tf\n",
    "%matplotlib inline"
   ]
  },
  {
   "cell_type": "markdown",
   "metadata": {},
   "source": [
    "# 1. Kernels"
   ]
  },
  {
   "cell_type": "markdown",
   "metadata": {},
   "source": [
    "#### Definición de proceso gaussiano"
   ]
  },
  {
   "cell_type": "markdown",
   "metadata": {},
   "source": [
    "Un proceso gaussiano (GP) es una colección de variables aleatorias de tal forma que cada subconjunto finito de ellas sigue una distribución normal multivariante.\n",
    "Se denota como $f(\\mathbf{x})\\sim\\mathcal{GP}\\left(m(\\mathbf{x}),k(\\mathbf{x},\\mathbf{x'})\\right)$. Donde $m(\\mathbf{x})$ es la función de media y $k(\\mathbf{x},\\mathbf{x'})$  es una función kernel que nos definirá la covarianza para cada par de variables $\\mathbf{x}$ y $\\mathbf{x}'$. La única condición para la función kernel es que nos genere una matriz semidefinida positiva para poder obtener una distribución de probabilidad.\n",
    "\n",
    "Para cualquier muestra $\\mathbf{X}=\\{\\mathbf{x}_1,\\dots,\\mathbf{x}_n\\}$ tendremos definido sobre nuestra función $f$ una distribución normal multivariante (en este caso de $n$ dimensiones). Esto se usará como información a priori para los problemas de regresión o clasificación. Usando este planteamiento bayesiano, podremos imponerle propiedades deseables a la función latente que queremos estimar $f$.\n",
    "\n",
    "La media suele ser constante igual a 0 sin perder generalidad o flexibilidad. La cuestión será construir la función kernel $k$. Esta será la encargada de aportar las características o propiedades a la función $f$ que queremos modelar. Esta función nos dará la matriz de convarianza y, por tanto, la dependencia entre dos instancias. Entre las características que podemos imponer a nuestro GP será suavidad o periodicidad. \n",
    "\n",
    "\n",
    "**Nótese** que estas funciones kernels dependerán a su vez de parámetros los cuales regularán estas propiedades."
   ]
  },
  {
   "cell_type": "markdown",
   "metadata": {},
   "source": [
    "### Ejemplo de proceso gaussiano"
   ]
  },
  {
   "cell_type": "markdown",
   "metadata": {},
   "source": [
    "En este ejemplo, vamos a consider que $x_1,\\dots,x_n$ son números reales. Entonces podremos definir a través de nuestro $\\mathcal{GP}$ una distribución normal multivariante para cada subconjunto finito de números reales."
   ]
  },
  {
   "cell_type": "markdown",
   "metadata": {},
   "source": [
    " $f({x})\\sim\\mathcal{GP}\\left(0,k({x},{x'})\\right)$\n",
    " \n",
    " Consideramos la función kernel $k$ exponencial cuadrada (SE) (también conocida como Radial Basis Function (RBF)), que se define como\n",
    " \n",
    " $$ k(x, x') = \\exp\\left(-\\frac{\\parallel x - x'\\parallel_2^2}{0.5}\\right)$$.\n",
    " \n",
    " \n",
    "Si tenemos una muestra que sea ${X}=\\{0.1,0.2,0.8\\}$, la función $f({x})$ tendrá la siguiente distribución:\n",
    "\n",
    "$$f\\sim\\mathcal{N}(0, K), \\qquad K = \\begin{pmatrix}\n",
    "1 & 0.9801 & 0.3753 \\\\\n",
    "0.9801 & 1 & 0.4867 \\\\\n",
    "0.3753 & 0.4867 & 1\n",
    "\\end{pmatrix}$$\n",
    "\n",
    "Como podemos ver en la matriz de covarianza, el punto 0.1 y 0.2 tienen una dependencia (0.9801) más alta que cada uno de ellos con 0.8 (0.3753, 0.4867). Además cuanto más lejanos están los puntos menor es la dependencia. Esto nos garantiza que valores cercanos en $x, ~  x'$ (entrada) deberán tener valores parecidos su función latente $f(x), ~  f(x')$ (salida), esto sería un concepto de suavidad. \n",
    "\n",
    "** Recuerda **: La única condición puesta para esta función kernel es que se debe obtener una matriz semidefinida positiva, de otro modo no nos definiría una distribución de probabilidad.\n",
    "\n",
    "En la siguiente celda vamos a dibujar 3 muestreos de esta distribución:"
   ]
  },
  {
   "cell_type": "code",
   "execution_count": 1,
   "metadata": {},
   "outputs": [
    {
     "ename": "NameError",
     "evalue": "name 'np' is not defined",
     "output_type": "error",
     "traceback": [
      "\u001b[1;31m---------------------------------------------------------------------------\u001b[0m",
      "\u001b[1;31mNameError\u001b[0m                                 Traceback (most recent call last)",
      "\u001b[1;32m<ipython-input-1-a539348c8ec4>\u001b[0m in \u001b[0;36m<module>\u001b[1;34m()\u001b[0m\n\u001b[1;32m----> 1\u001b[1;33m \u001b[0mnp\u001b[0m\u001b[1;33m.\u001b[0m\u001b[0mrandom\u001b[0m\u001b[1;33m.\u001b[0m\u001b[0mseed\u001b[0m\u001b[1;33m(\u001b[0m\u001b[1;36m100\u001b[0m\u001b[1;33m)\u001b[0m \u001b[1;31m#Semilla para que siempre nos salgan las mismas muestras\u001b[0m\u001b[1;33m\u001b[0m\u001b[0m\n\u001b[0m\u001b[0;32m      2\u001b[0m \u001b[0mk\u001b[0m \u001b[1;33m=\u001b[0m \u001b[0mgpflow\u001b[0m\u001b[1;33m.\u001b[0m\u001b[0mkernels\u001b[0m\u001b[1;33m.\u001b[0m\u001b[0mRBF\u001b[0m\u001b[1;33m(\u001b[0m\u001b[1;36m1\u001b[0m\u001b[1;33m,\u001b[0m \u001b[0mlengthscales\u001b[0m \u001b[1;33m=\u001b[0m \u001b[1;36m0.5\u001b[0m\u001b[1;33m,\u001b[0m \u001b[0mvariance\u001b[0m \u001b[1;33m=\u001b[0m \u001b[1;36m1\u001b[0m\u001b[1;33m)\u001b[0m \u001b[1;31m#Definición del kernel\u001b[0m\u001b[1;33m\u001b[0m\u001b[0m\n\u001b[0;32m      3\u001b[0m \u001b[0mxx\u001b[0m \u001b[1;33m=\u001b[0m \u001b[0mnp\u001b[0m\u001b[1;33m.\u001b[0m\u001b[0marray\u001b[0m\u001b[1;33m(\u001b[0m\u001b[1;33m[\u001b[0m\u001b[1;33m[\u001b[0m\u001b[1;36m0.1\u001b[0m\u001b[1;33m]\u001b[0m\u001b[1;33m,\u001b[0m \u001b[1;33m[\u001b[0m\u001b[1;36m0.2\u001b[0m\u001b[1;33m]\u001b[0m\u001b[1;33m,\u001b[0m \u001b[1;33m[\u001b[0m\u001b[1;36m0.8\u001b[0m\u001b[1;33m]\u001b[0m\u001b[1;33m]\u001b[0m\u001b[1;33m)\u001b[0m \u001b[1;31m#Puntos de entrada\u001b[0m\u001b[1;33m\u001b[0m\u001b[0m\n\u001b[0;32m      4\u001b[0m \u001b[0mK\u001b[0m \u001b[1;33m=\u001b[0m \u001b[0mk\u001b[0m\u001b[1;33m.\u001b[0m\u001b[0mcompute_K_symm\u001b[0m\u001b[1;33m(\u001b[0m\u001b[0mxx\u001b[0m\u001b[1;33m)\u001b[0m \u001b[1;31m#Cálculo de la matriz de covarianzas de la malla definida\u001b[0m\u001b[1;33m\u001b[0m\u001b[0m\n\u001b[0;32m      5\u001b[0m \u001b[0mplt\u001b[0m\u001b[1;33m.\u001b[0m\u001b[0mplot\u001b[0m\u001b[1;33m(\u001b[0m\u001b[0mxx\u001b[0m\u001b[1;33m,\u001b[0m \u001b[0mnp\u001b[0m\u001b[1;33m.\u001b[0m\u001b[0mrandom\u001b[0m\u001b[1;33m.\u001b[0m\u001b[0mmultivariate_normal\u001b[0m\u001b[1;33m(\u001b[0m\u001b[0mnp\u001b[0m\u001b[1;33m.\u001b[0m\u001b[0mzeros\u001b[0m\u001b[1;33m(\u001b[0m\u001b[0mlen\u001b[0m\u001b[1;33m(\u001b[0m\u001b[0mxx\u001b[0m\u001b[1;33m)\u001b[0m\u001b[1;33m)\u001b[0m\u001b[1;33m,\u001b[0m \u001b[0mK\u001b[0m\u001b[1;33m,\u001b[0m \u001b[1;36m3\u001b[0m\u001b[1;33m)\u001b[0m\u001b[1;33m.\u001b[0m\u001b[0mT\u001b[0m\u001b[1;33m,\u001b[0m  \u001b[1;34m'o'\u001b[0m\u001b[1;33m,\u001b[0m \u001b[0mmarkersize\u001b[0m \u001b[1;33m=\u001b[0m \u001b[1;36m12\u001b[0m\u001b[1;33m)\u001b[0m \u001b[1;31m#Tomamos 3 muestras de la distribución\u001b[0m\u001b[1;33m\u001b[0m\u001b[0m\n",
      "\u001b[1;31mNameError\u001b[0m: name 'np' is not defined"
     ]
    }
   ],
   "source": [
    "np.random.seed(100) #Semilla para que siempre nos salgan las mismas muestras\n",
    "k = gpflow.kernels.RBF(1, lengthscales = 0.5, variance = 1) #Definición del kernel\n",
    "xx = np.array([[0.1], [0.2], [0.8]]) #Puntos de entrada\n",
    "K = k.compute_K_symm(xx) #Cálculo de la matriz de covarianzas de la malla definida\n",
    "plt.plot(xx, np.random.multivariate_normal(np.zeros(len(xx)), K, 3).T,  'o', markersize = 12) #Tomamos 3 muestras de la distribución\n",
    "plt.title('3 muestras de la distribución de f')\n",
    "plt.show()"
   ]
  },
  {
   "cell_type": "markdown",
   "metadata": {},
   "source": [
    "Podemos tener más puntos de entradas y muestrear en la multivariante resultante, por ejemplo ${X}=\\{0.1,0.12,0.2,0.4,0.7,0.71,0.75\\}$"
   ]
  },
  {
   "cell_type": "code",
   "execution_count": 53,
   "metadata": {},
   "outputs": [
    {
     "data": {
      "text/plain": [
       "Text(0.5, 1.0, '3 muestras de la distribución de f')"
      ]
     },
     "execution_count": 53,
     "metadata": {},
     "output_type": "execute_result"
    },
    {
     "data": {
      "image/png": "[encoded data removed]",
      "text/plain": [
       "<Figure size 432x288 with 1 Axes>"
      ]
     },
     "metadata": {
      "needs_background": "light"
     },
     "output_type": "display_data"
    }
   ],
   "source": [
    "np.random.seed(50) #Semilla para que siempre nos salgan las mismas muestras\n",
    "k = gpflow.kernels.RBF(1, lengthscales = 0.5, variance = 1) #Definición del kernel\n",
    "xx = np.array([[0.1], [0.12], [0.2], [0.4], [0.7], [0.71], [0.75]]) #Puntos de entrada\n",
    "K = k.compute_K_symm(xx) #Cálculo de la matriz de covarianzas de la malla definida\n",
    "plt.plot(xx, np.random.multivariate_normal(np.zeros(len(xx)), K, 3).T, 'o', markersize = 12) #Tomamos 3 muestras de la distribución\n",
    "plt.title('3 muestras de la distribución de f')"
   ]
  },
  {
   "cell_type": "markdown",
   "metadata": {},
   "source": [
    "La idea es que si nuestro conjunto de entrada es una malla lo suficientemente fina de puntos (y entre los puntos unimos con rectas) podremos obtener funciones continuas en los muestreos ya que nuestro GP nos define la distribución multivariante para cualesquiera puntos de entrada:"
   ]
  },
  {
   "cell_type": "code",
   "execution_count": 52,
   "metadata": {},
   "outputs": [
    {
     "data": {
      "text/plain": [
       "Text(0.5, 1.0, '3 muestras de la distribución de f')"
      ]
     },
     "execution_count": 52,
     "metadata": {},
     "output_type": "execute_result"
    },
    {
     "data": {
      "image/png": "[encoded data removed]",
      "text/plain": [
       "<Figure size 432x288 with 1 Axes>"
      ]
     },
     "metadata": {
      "needs_background": "light"
     },
     "output_type": "display_data"
    }
   ],
   "source": [
    "np.random.seed(50) #Semilla para que siempre nos salgan las mismas muestras\n",
    "k = gpflow.kernels.RBF(1, lengthscales = 0.5, variance = 1) #Definición del kernel\n",
    "xx =  np.linspace(0, 1, 100)[:,None] #Puntos de entrada\n",
    "K = k.compute_K_symm(xx) #Cálculo de la matriz de covarianzas de la malla definida\n",
    "plt.plot(xx, np.random.multivariate_normal(np.zeros(len(xx)), K, 3).T) #Tomamos 3 muestras de la distribución\n",
    "plt.title('3 muestras de la distribución de f')\n",
    "plt.show()"
   ]
  },
  {
   "cell_type": "markdown",
   "metadata": {},
   "source": [
    "**Resumen:** La distribución a priori de $f$ vendrá definida por el kernel que elijamos el cual regulará las propiedades de esta función. A su vez estas funciones kernel dependerán de parámetros que también controlarán estas propiedades."
   ]
  },
  {
   "cell_type": "markdown",
   "metadata": {},
   "source": [
    "## Ejemplos de kernels"
   ]
  },
  {
   "cell_type": "markdown",
   "metadata": {},
   "source": [
    "La siguiente función auxiliar nos muestreará el kernel que le digamos en el intervalo (-3,3)."
   ]
  },
  {
   "cell_type": "code",
   "execution_count": 2,
   "metadata": {},
   "outputs": [],
   "source": [
    "#Función para dibujar un muestreo de los kernels\n",
    "def plotkernelsample(k, ax, xmin=-3, xmax=3):\n",
    "    xx = np.linspace(xmin, xmax, 100)[:,None] #Definimos una malla en el eje x\n",
    "    K = k.compute_K_symm(xx) #Cálculo de la matriz de covarianzas de la malla definida\n",
    "    ax.plot(xx, np.random.multivariate_normal(np.zeros(100), K, 3).T) #Pintamos 3 muestras de la normal multivariante de media 0 y matriz de covarianza K\n",
    "    ax.set_title(k.__class__.__name__) #El título del gráfico será el nombre del kernel"
   ]
  },
  {
   "cell_type": "markdown",
   "metadata": {},
   "source": [
    "A continuación, vemos ejemplos de algunos los kernels más utilizados:\n",
    "\n",
    "** Función lineal **\n",
    "\n",
    " $$\\text{Lineal}\\quad k(x, x') = \\sigma^2 x \\cdot x'$$\n",
    "\n",
    "** Función Estática **\n",
    "\n",
    " $$\\text{White}\\quad k(x, x') = \\sigma^2\\delta_{x x'}$$\n",
    "\n",
    "** Funciones estacionarias: ** $r = \\frac{\\parallel x - x'\\parallel_2}{l}$\n",
    "\n",
    "\n",
    " $$\\text{Matern12}\\quad k(x, x') = \\sigma^2\\exp\\left(-r\\right)$$ \n",
    "\n",
    " $$\\text{Matern32}\\quad k(x, x') = \\sigma^2(1+\\sqrt{3}r)\\exp\\left(-\\sqrt{3}r\\right)$$\n",
    " \n",
    "  $$\\text{Matern52}\\quad k(x, x') = \\sigma^2(1+\\sqrt{5}r + \\frac{5}{3}r)\\exp\\left(-\\sqrt{5}r\\right)$$\n",
    " \n",
    " $$\\text{RBF}\\quad k(x, x') = \\sigma^2\\exp\\left(-\\frac{r^2}{2}\\right)$$\n",
    " \n",
    "** Funciones periódicas **\n",
    "\n",
    " $$\\text{Coseno}\\quad k(x, x') = \\sigma^2\\cos\\left(r^2\\right)$$\n",
    " \n",
    "  $$\\text{Periódica}\\quad k(x, x') = \\sigma^2\\exp\\left(-\\frac{\\frac{1}{p}\\sin(\\pi{\\parallel x-x'\\parallel_2^2})}{l}\\right)$$\n",
    "\n"
   ]
  },
  {
   "cell_type": "markdown",
   "metadata": {},
   "source": [
    "El *núcleo lineal* nos introducirá como información a priori la linealidad de los datos, estaremos haciendo regresión lineal. La función *white* es una función de ruido gaussiano, la cual se suele añadir aditivamente a otros kernels para evitar overfitting. Las *funciones estacionarias* dependen de r, es decir, solo importa la distancia entre dos puntos. Por último, las *funciones periódicas* impondrá una dependencia periódica.\n",
    "\n",
    "Dentro de las *funciones estacionarias* hay algunas que imponen más suaviadad que otras. Nótese esto en el ejemplo."
   ]
  },
  {
   "cell_type": "markdown",
   "metadata": {},
   "source": [
    "Obtenemos 3 muestras de cada kernel en el intervalo (-3,3) para ver que propiedades pueden tener cada uno:"
   ]
  },
  {
   "cell_type": "code",
   "execution_count": 2,
   "metadata": {},
   "outputs": [
    {
     "ename": "NameError",
     "evalue": "name 'np' is not defined",
     "output_type": "error",
     "traceback": [
      "\u001b[1;31m---------------------------------------------------------------------------\u001b[0m",
      "\u001b[1;31mNameError\u001b[0m                                 Traceback (most recent call last)",
      "\u001b[1;32m<ipython-input-2-abf86b4d20b6>\u001b[0m in \u001b[0;36m<module>\u001b[1;34m()\u001b[0m\n\u001b[1;32m----> 1\u001b[1;33m \u001b[0mnp\u001b[0m\u001b[1;33m.\u001b[0m\u001b[0mrandom\u001b[0m\u001b[1;33m.\u001b[0m\u001b[0mseed\u001b[0m\u001b[1;33m(\u001b[0m\u001b[1;36m100\u001b[0m\u001b[1;33m)\u001b[0m\u001b[1;33m\u001b[0m\u001b[0m\n\u001b[0m\u001b[0;32m      2\u001b[0m \u001b[0mf\u001b[0m\u001b[1;33m,\u001b[0m \u001b[0maxes\u001b[0m \u001b[1;33m=\u001b[0m \u001b[0mplt\u001b[0m\u001b[1;33m.\u001b[0m\u001b[0msubplots\u001b[0m\u001b[1;33m(\u001b[0m\u001b[1;36m2\u001b[0m\u001b[1;33m,\u001b[0m \u001b[1;36m4\u001b[0m\u001b[1;33m,\u001b[0m \u001b[0mfigsize\u001b[0m\u001b[1;33m=\u001b[0m\u001b[1;33m(\u001b[0m\u001b[1;36m12\u001b[0m\u001b[1;33m,\u001b[0m \u001b[1;36m6\u001b[0m\u001b[1;33m)\u001b[0m\u001b[1;33m,\u001b[0m \u001b[0msharex\u001b[0m\u001b[1;33m=\u001b[0m\u001b[1;32mTrue\u001b[0m\u001b[1;33m,\u001b[0m \u001b[0msharey\u001b[0m\u001b[1;33m=\u001b[0m\u001b[1;32mTrue\u001b[0m\u001b[1;33m)\u001b[0m\u001b[1;33m\u001b[0m\u001b[0m\n\u001b[0;32m      3\u001b[0m \u001b[0mplotkernelsample\u001b[0m\u001b[1;33m(\u001b[0m\u001b[0mgpflow\u001b[0m\u001b[1;33m.\u001b[0m\u001b[0mkernels\u001b[0m\u001b[1;33m.\u001b[0m\u001b[0mMatern12\u001b[0m\u001b[1;33m(\u001b[0m\u001b[1;36m1\u001b[0m\u001b[1;33m)\u001b[0m\u001b[1;33m,\u001b[0m \u001b[0maxes\u001b[0m\u001b[1;33m[\u001b[0m\u001b[1;36m0\u001b[0m\u001b[1;33m,\u001b[0m\u001b[1;36m0\u001b[0m\u001b[1;33m]\u001b[0m\u001b[1;33m)\u001b[0m\u001b[1;33m\u001b[0m\u001b[0m\n\u001b[0;32m      4\u001b[0m \u001b[0mplotkernelsample\u001b[0m\u001b[1;33m(\u001b[0m\u001b[0mgpflow\u001b[0m\u001b[1;33m.\u001b[0m\u001b[0mkernels\u001b[0m\u001b[1;33m.\u001b[0m\u001b[0mMatern32\u001b[0m\u001b[1;33m(\u001b[0m\u001b[1;36m1\u001b[0m\u001b[1;33m)\u001b[0m\u001b[1;33m,\u001b[0m \u001b[0maxes\u001b[0m\u001b[1;33m[\u001b[0m\u001b[1;36m0\u001b[0m\u001b[1;33m,\u001b[0m\u001b[1;36m1\u001b[0m\u001b[1;33m]\u001b[0m\u001b[1;33m)\u001b[0m\u001b[1;33m\u001b[0m\u001b[0m\n\u001b[0;32m      5\u001b[0m \u001b[0mplotkernelsample\u001b[0m\u001b[1;33m(\u001b[0m\u001b[0mgpflow\u001b[0m\u001b[1;33m.\u001b[0m\u001b[0mkernels\u001b[0m\u001b[1;33m.\u001b[0m\u001b[0mMatern52\u001b[0m\u001b[1;33m(\u001b[0m\u001b[1;36m1\u001b[0m\u001b[1;33m)\u001b[0m\u001b[1;33m,\u001b[0m \u001b[0maxes\u001b[0m\u001b[1;33m[\u001b[0m\u001b[1;36m0\u001b[0m\u001b[1;33m,\u001b[0m\u001b[1;36m2\u001b[0m\u001b[1;33m]\u001b[0m\u001b[1;33m)\u001b[0m\u001b[1;33m\u001b[0m\u001b[0m\n",
      "\u001b[1;31mNameError\u001b[0m: name 'np' is not defined"
     ]
    }
   ],
   "source": [
    "np.random.seed(100)\n",
    "f, axes = plt.subplots(2, 4, figsize=(12, 6), sharex=True, sharey=True)\n",
    "plotkernelsample(gpflow.kernels.Matern12(1), axes[0,0])\n",
    "plotkernelsample(gpflow.kernels.Matern32(1), axes[0,1])\n",
    "plotkernelsample(gpflow.kernels.Matern52(1), axes[0,2])\n",
    "plotkernelsample(gpflow.kernels.RBF(1), axes[0,3])\n",
    "plotkernelsample(gpflow.kernels.White(1), axes[1,0])\n",
    "plotkernelsample(gpflow.kernels.Linear(1), axes[1,1])\n",
    "plotkernelsample(gpflow.kernels.Cosine(1), axes[1,2])\n",
    "plotkernelsample(gpflow.kernels.Periodic(1), axes[1,3])\n",
    "axes[0,0].set_ylim(-3, 3)"
   ]
  },
  {
   "cell_type": "markdown",
   "metadata": {},
   "source": [
    "## Kernel RBF"
   ]
  },
  {
   "cell_type": "markdown",
   "metadata": {},
   "source": [
    "El kernel más utilizado es el Exponencial Cuadrado (SE) o Radial Basis Function (RBF):\n",
    "\n",
    "$$ k(x, x') = \\sigma^2\\exp\\left(-\\frac{\\parallel x - x'\\parallel_2^2}{2l^2}\\right)$$.\n",
    " \n",
    " \n",
    "Este kernel aporta suavidad a la función lo cual será algo deseable, normalmente. Además tiene suficiente flexibilidad para poder aproximar diversas funciones. Podemos regular estas propiedades eligiendo los parámetros de escala ($l$) y varianza ($\\sigma$).\n",
    "\n",
    "En el siguiente script, prueba distintos valores de escala ($l$ ó $sc$) y varianza ($var$) para ver en qué afecta a la función resultante."
   ]
  },
  {
   "cell_type": "code",
   "execution_count": null,
   "metadata": {},
   "outputs": [],
   "source": [
    "#Parámetros del kernel\n",
    "var = 1\n",
    "sc = 10\n",
    "\n",
    "#Semilla aleatoria\n",
    "np.random.seed(100)\n",
    "k = gpflow.kernels.RBF(input_dim = 1, lengthscales = sc, variance = var)\n",
    "\n",
    "f, axes = plt.subplots(1 , 1, figsize=(12, 6), sharex=True, sharey=True)\n",
    "plotkernelsample(gpflow.kernels.RBF(input_dim = 1, lengthscales = sc, variance = var), axes)\n",
    "\n",
    "x_title = 'k(x,y) = {} exp [- {} ||x - y ||$^2$]'.format(var, 1/sc)\n",
    "axes.set_xlabel(x_title)\n",
    "\n",
    "\n",
    "print(k)"
   ]
  },
  {
   "cell_type": "markdown",
   "metadata": {},
   "source": [
    "**Pregunta:** ¿Cómo afecta la escala y la varianza a las funciones resultantes?"
   ]
  },
  {
   "cell_type": "markdown",
   "metadata": {},
   "source": [
    "## Construcción de nuevos kernels"
   ]
  },
  {
   "cell_type": "markdown",
   "metadata": {},
   "source": [
    "A partir de estos kernels vistos se pueden construir nuevos. Una referencia de esto la podemos encontrar en el [Kernel Cookbook](https://www.cs.toronto.edu/~duvenaud/cookbook/). "
   ]
  },
  {
   "cell_type": "markdown",
   "metadata": {},
   "source": [
    "### Suma de kernels"
   ]
  },
  {
   "cell_type": "markdown",
   "metadata": {},
   "source": [
    "Podemos considerar la suma de dos kernels para obtener un nuevo kernel. En este ejemplo definimos la siguiente función kernel que es la suma de un RBF con un kernel de ruido blanco:\n",
    "\n",
    "$$k(x,x') = k_{RBF}(x,x') + k_{White}(x,x')$$\n",
    "\n",
    "donde $k_{RBF}$ y $k_{White}$ son las funciones kernels definidas anteriormente. Nótese que la suma de dos matrices de covarianza nos da otra matriz de covarianza (es fácil ver que la suma de dos matrices semidefinidas positiva da otra matriz semidefinida positiva)."
   ]
  },
  {
   "cell_type": "code",
   "execution_count": 4,
   "metadata": {},
   "outputs": [
    {
     "ename": "NameError",
     "evalue": "name 'gpflow' is not defined",
     "output_type": "error",
     "traceback": [
      "\u001b[1;31m---------------------------------------------------------------------------\u001b[0m",
      "\u001b[1;31mNameError\u001b[0m                                 Traceback (most recent call last)",
      "\u001b[1;32m<ipython-input-4-8467c64afa2f>\u001b[0m in \u001b[0;36m<module>\u001b[1;34m()\u001b[0m\n\u001b[1;32m----> 1\u001b[1;33m \u001b[0mk\u001b[0m \u001b[1;33m=\u001b[0m \u001b[0mgpflow\u001b[0m\u001b[1;33m.\u001b[0m\u001b[0mkernels\u001b[0m\u001b[1;33m.\u001b[0m\u001b[0mRBF\u001b[0m\u001b[1;33m(\u001b[0m\u001b[1;36m1\u001b[0m\u001b[1;33m)\u001b[0m \u001b[1;33m+\u001b[0m \u001b[0mgpflow\u001b[0m\u001b[1;33m.\u001b[0m\u001b[0mkernels\u001b[0m\u001b[1;33m.\u001b[0m\u001b[0mWhite\u001b[0m\u001b[1;33m(\u001b[0m\u001b[1;36m1\u001b[0m\u001b[1;33m,\u001b[0m \u001b[1;36m1e-3\u001b[0m\u001b[1;33m)\u001b[0m\u001b[1;33m\u001b[0m\u001b[0m\n\u001b[0m\u001b[0;32m      2\u001b[0m \u001b[0mnp\u001b[0m\u001b[1;33m.\u001b[0m\u001b[0mrandom\u001b[0m\u001b[1;33m.\u001b[0m\u001b[0mseed\u001b[0m\u001b[1;33m(\u001b[0m\u001b[1;36m100\u001b[0m\u001b[1;33m)\u001b[0m\u001b[1;33m\u001b[0m\u001b[0m\n\u001b[0;32m      3\u001b[0m \u001b[0mf\u001b[0m\u001b[1;33m,\u001b[0m \u001b[0maxes\u001b[0m \u001b[1;33m=\u001b[0m \u001b[0mplt\u001b[0m\u001b[1;33m.\u001b[0m\u001b[0msubplots\u001b[0m\u001b[1;33m(\u001b[0m\u001b[1;36m1\u001b[0m \u001b[1;33m,\u001b[0m \u001b[1;36m1\u001b[0m\u001b[1;33m,\u001b[0m \u001b[0mfigsize\u001b[0m\u001b[1;33m=\u001b[0m\u001b[1;33m(\u001b[0m\u001b[1;36m12\u001b[0m\u001b[1;33m,\u001b[0m \u001b[1;36m6\u001b[0m\u001b[1;33m)\u001b[0m\u001b[1;33m,\u001b[0m \u001b[0msharex\u001b[0m\u001b[1;33m=\u001b[0m\u001b[1;32mTrue\u001b[0m\u001b[1;33m,\u001b[0m \u001b[0msharey\u001b[0m\u001b[1;33m=\u001b[0m\u001b[1;32mTrue\u001b[0m\u001b[1;33m)\u001b[0m\u001b[1;33m\u001b[0m\u001b[0m\n\u001b[0;32m      4\u001b[0m \u001b[0mplotkernelsample\u001b[0m\u001b[1;33m(\u001b[0m\u001b[0mk\u001b[0m\u001b[1;33m,\u001b[0m \u001b[0maxes\u001b[0m\u001b[1;33m)\u001b[0m\u001b[1;33m\u001b[0m\u001b[0m\n",
      "\u001b[1;31mNameError\u001b[0m: name 'gpflow' is not defined"
     ]
    }
   ],
   "source": [
    "k = gpflow.kernels.RBF(1) + gpflow.kernels.White(1, 1e-3)\n",
    "np.random.seed(100)\n",
    "f, axes = plt.subplots(1 , 1, figsize=(12, 6), sharex=True, sharey=True)\n",
    "plotkernelsample(k, axes)"
   ]
  },
  {
   "cell_type": "markdown",
   "metadata": {},
   "source": [
    "**Pregunta:** ¿Qué pasaría si sumaramos un kernel periódico con uno lineal?"
   ]
  },
  {
   "cell_type": "markdown",
   "metadata": {},
   "source": [
    "### Multiplicación de kernels"
   ]
  },
  {
   "cell_type": "markdown",
   "metadata": {},
   "source": [
    "De manera similar podemos considerar la multiplicación de kernels, en este ejemplo mostramos:\n",
    "    \n",
    "$$k(x,x') = k_{Lineal}(x,x') * k_{Lineal}(x,x')$$"
   ]
  },
  {
   "cell_type": "code",
   "execution_count": null,
   "metadata": {},
   "outputs": [],
   "source": [
    "k = gpflow.kernels.Linear(1) * gpflow.kernels.Linear(1)\n",
    "np.random.seed(100)\n",
    "f, axes = plt.subplots(1 , 1, figsize=(12, 6), sharex=True, sharey=True)\n",
    "plotkernelsample(k, axes)"
   ]
  },
  {
   "cell_type": "markdown",
   "metadata": {},
   "source": [
    "**Pregunta:** ¿Qué pasaría si multiplicaramos 3 kernels lineales?"
   ]
  },
  {
   "cell_type": "markdown",
   "metadata": {},
   "source": [
    "## Kernels en varias dimensiones"
   ]
  },
  {
   "cell_type": "markdown",
   "metadata": {},
   "source": [
    "### Dimensiones activas"
   ]
  },
  {
   "cell_type": "markdown",
   "metadata": {},
   "source": [
    "Podemos aplicar determinados kernels en dimensiones específicas. Por ejemplo, en un caso 2D. Cada instancia $\\mathbf{x}_1, \\dots, \\mathbf{x}_n$ tendrá dos rasgos o coordenadas: $\\mathbf{x}_1=(x_1^1,x_1^2)$. En el caso de RBF de manera general este kernel se definiría como:\n",
    "\n",
    "\n",
    "Podemos elegir sobre que coordenada debe actuar el kernel, por ejemplo, podemos calcular la matriz de varianza usando solo la primera coordenada:\n"
   ]
  },
  {
   "cell_type": "code",
   "execution_count": null,
   "metadata": {},
   "outputs": [],
   "source": [
    "k1 = gpflow.kernels.Linear(1, active_dims=[0])\n",
    "k2 = gpflow.kernels.Matern52(1, active_dims=[1])\n",
    "k = k1 + k2\n",
    "k.as_pandas_table()"
   ]
  },
  {
   "cell_type": "markdown",
   "metadata": {},
   "source": [
    "### Automatic relevance determination"
   ]
  },
  {
   "cell_type": "markdown",
   "metadata": {},
   "source": [
    "Esto significa que estamos poniendo un parámetro de escala $l$ distinto en cada dimensión. Esto hará que no todas las dimensiones contribuyan por igual. Cuando estimemos estos parámetros de escalas nos indicará la relevancia de cada dimensión ya que valores más altas denotan una dependencia más alta en esa dimensión respecto de la variable objetivo."
   ]
  },
  {
   "cell_type": "code",
   "execution_count": null,
   "metadata": {},
   "outputs": [],
   "source": [
    "k1 = gpflow.kernels.RBF(5, ARD = True)\n",
    "k1.as_pandas_table()"
   ]
  }
 ],
 "metadata": {
  "kernelspec": {
   "display_name": "Python 3",
   "language": "python",
   "name": "python3"
  },
  "language_info": {
   "codemirror_mode": {
    "name": "ipython",
    "version": 3
   },
   "file_extension": ".py",
   "mimetype": "text/x-python",
   "name": "python",
   "nbconvert_exporter": "python",
   "pygments_lexer": "ipython3",
   "version": "3.5.6"
  }
 },
 "nbformat": 4,
 "nbformat_minor": 2
}
