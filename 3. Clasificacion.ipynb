{
 "cells": [
  {
   "cell_type": "markdown",
   "metadata": {},
   "source": [
    "# Seminarios de Procesos Gaussianos\n",
    "\n",
    "### Grupo de procesamiento de la información visual (VIP) "
   ]
  },
  {
   "cell_type": "markdown",
   "metadata": {},
   "source": [
    "<div style=\"text-align: right\"> Miguel López Pérez </div>"
   ]
  },
  {
   "cell_type": "markdown",
   "metadata": {},
   "source": [
    "# Clasificación"
   ]
  },
  {
   "cell_type": "code",
   "execution_count": 1,
   "metadata": {},
   "outputs": [],
   "source": [
    "import gpflow\n",
    "import numpy as np\n",
    "import matplotlib.pyplot as plt\n",
    "import tensorflow as tf\n",
    "from sklearn import datasets\n",
    "import sklearn.datasets\n",
    "from sklearn import model_selection\n",
    "import sklearn.ensemble\n",
    "%matplotlib inline"
   ]
  },
  {
   "cell_type": "code",
   "execution_count": null,
   "metadata": {},
   "outputs": [],
   "source": [
    "def gridParams():\n",
    "    mins = [-0.75,-1.5 ]\n",
    "    maxs = [ 2.5, 1.25 ]\n",
    "    nGrid = 50\n",
    "    xspaced = np.linspace(mins[0], maxs[0], nGrid)\n",
    "    yspaced = np.linspace(mins[1], maxs[1], nGrid)\n",
    "    xx, yy = np.meshgrid(xspaced, yspaced)\n",
    "    Xplot = np.vstack((xx.flatten(),yy.flatten())).T\n",
    "    return mins, maxs, xx, yy, Xplot\n",
    "\n",
    "def plot(m, ax, Xtrain, Ytrain):\n",
    "    col1 = '#0172B2'\n",
    "    col2 = '#CC6600'\n",
    "    mins, maxs, xx, yy, Xplot = gridParams()\n",
    "    p = m.predict_y(Xplot)[0]\n",
    "    ax.plot(Xtrain[:,0][Ytrain[:,0]==1], Xtrain[:,1][Ytrain[:,0]==1], 'ko', color='b', mew=2)\n",
    "    ax.plot(Xtrain[:,0][Ytrain[:,0]==0], Xtrain[:,1][Ytrain[:,0]==0], 'ko', color='r', mew=2)\n",
    "    if hasattr(m, 'feature') and hasattr(m.feature, 'Z'):\n",
    "        Z = m.feature.Z.read_value()\n",
    "        ax.plot(Z[:,0], Z[:,1], 'ko', mew=0, ms=4)\n",
    "        ax.set_title('m={}'.format(Z.shape[0]))\n",
    "    else:\n",
    "        ax.set_title('full')\n",
    "    ax.contour(xx, yy, p.reshape(*xx.shape), [0.5], colors='k', linewidths=1.8, zorder=100)"
   ]
  },
  {
   "cell_type": "markdown",
   "metadata": {},
   "source": [
    "## Ejemplo de juguete"
   ]
  },
  {
   "cell_type": "code",
   "execution_count": null,
   "metadata": {},
   "outputs": [],
   "source": [
    "X, y = sklearn.datasets.make_moons(n_samples = 200, noise = 0.2, random_state = 110)\n",
    "y = y.reshape(-1,1)\n",
    "plt.figure()\n",
    "plt.plot(X[:,0][y[:,0]==0], X[:,1][y[:,0]==0], 'ko', mew=2, color = 'r')\n",
    "plt.plot(X[:,0][y[:,0]==1], X[:,1][y[:,0]==1], 'ko', mew=2, color = 'b')\n",
    "plt.show()"
   ]
  },
  {
   "cell_type": "code",
   "execution_count": null,
   "metadata": {},
   "outputs": [],
   "source": [
    "m = gpflow.models.VGP(X, y,\n",
    "                      kern=gpflow.kernels.RBF(2),\n",
    "                      likelihood=gpflow.likelihoods.Bernoulli())\n",
    "gpflow.train.ScipyOptimizer(options=dict(maxiter=200)).minimize(m)\n",
    "\n",
    "\n",
    "models = []\n",
    "models.append(m)\n",
    "\n",
    "# make plots.\n",
    "\n",
    "fig, axes = plt.subplots(1, len(models), sharex=True, sharey=True)\n",
    "for i, m in enumerate(models):\n",
    "    plot(m, axes, X, y)\n",
    "    axes.set_yticks([])\n",
    "    axes.set_xticks([])"
   ]
  },
  {
   "cell_type": "code",
   "execution_count": null,
   "metadata": {},
   "outputs": [],
   "source": [
    "X, y = sklearn.datasets.make_moons(n_samples = 200, noise = 0.2, random_state = 110)\n",
    "y = y.reshape(-1,1)\n",
    "m = gpflow.models.VGP(X, y,\n",
    "                      kern=gpflow.kernels.RBF(2),\n",
    "                      likelihood=gpflow.likelihoods.Bernoulli())\n",
    "\n",
    "gpflow.train.ScipyOptimizer(options=dict(maxiter=200)).minimize(m)\n",
    "m.kern.lengthscales = 0.1\n",
    "\n",
    "\n",
    "models = []\n",
    "models.append(m)\n",
    "\n",
    "# make plots.\n",
    "\n",
    "fig, axes = plt.subplots(1, len(models), sharex=True, sharey=True)\n",
    "for i, m in enumerate(models):\n",
    "    plot(m, axes, X, y)\n",
    "    axes.set_yticks([])\n",
    "    axes.set_xticks([])"
   ]
  },
  {
   "cell_type": "markdown",
   "metadata": {},
   "source": [
    "** Pregunta: ** ¿Qué tipo de frontera obtendríamos con el kernel Matern12?"
   ]
  },
  {
   "cell_type": "markdown",
   "metadata": {},
   "source": [
    "## Ejemplo de clasificación binaria con breast cancer"
   ]
  },
  {
   "cell_type": "markdown",
   "metadata": {},
   "source": [
    "Para clasificación Binaria deberemos elegir como likelihood la *Bernoulli*."
   ]
  },
  {
   "cell_type": "code",
   "execution_count": null,
   "metadata": {},
   "outputs": [],
   "source": [
    "X, y = sklearn.datasets.load_breast_cancer(return_X_y=True)\n",
    "print('El tamaño de este dataset es', X.shape)\n",
    "X_train, X_test, y_train, y_test = model_selection.train_test_split(X, y, test_size=0.4, random_state = 100)\n",
    "m = gpflow.models.VGP(X_train, y_train.reshape(-1,1), kern=gpflow.kernels.RBF(X_train.shape[1]), likelihood=gpflow.likelihoods.Bernoulli())\n",
    "gpflow.train.ScipyOptimizer().minimize(m, maxiter=300)\n",
    "print('La log-verosimilitud del modelo es', m.compute_log_likelihood())"
   ]
  },
  {
   "cell_type": "code",
   "execution_count": null,
   "metadata": {},
   "outputs": [],
   "source": [
    "pred_gp = m.predict_y(X_test)\n",
    "pred_gp = [1 if x> 0.5 else 0 for x in pred_gp[0]]\n",
    "acc_gp = sklearn.metrics.accuracy_score(y_test, pred_gp)"
   ]
  },
  {
   "cell_type": "code",
   "execution_count": null,
   "metadata": {},
   "outputs": [],
   "source": [
    "rf_model = sklearn.ensemble.RandomForestClassifier(n_estimators = 200, max_depth = 12, random_state = 12)\n",
    "rf_model.fit(X_train, y_train)\n",
    "pred_rf = rf_model.predict(X_test)\n",
    "acc_rf = sklearn.metrics.accuracy_score(y_test, pred_rf)"
   ]
  },
  {
   "cell_type": "code",
   "execution_count": null,
   "metadata": {},
   "outputs": [],
   "source": [
    "print('El accuracy del random forest es ', acc_rf, 'mientras que en el modelo GP es ', acc_gp)"
   ]
  },
  {
   "cell_type": "markdown",
   "metadata": {},
   "source": [
    "**Pregunta:** ¿Alguna sugerencia para mejorar el modelo GP?"
   ]
  },
  {
   "cell_type": "markdown",
   "metadata": {},
   "source": [
    "##  Ejemplo de clasificación multiclase con iris "
   ]
  },
  {
   "cell_type": "markdown",
   "metadata": {},
   "source": [
    "Para clasificación multiclase deberemos elegir como likelihood la *Multiclass*."
   ]
  },
  {
   "cell_type": "code",
   "execution_count": 2,
   "metadata": {},
   "outputs": [
    {
     "name": "stdout",
     "output_type": "stream",
     "text": [
      "El tamaño de este dataset es (150, 4)\n",
      "INFO:tensorflow:Optimization terminated with:\n",
      "  Message: b'STOP: TOTAL NO. of ITERATIONS REACHED LIMIT'\n",
      "  Objective function value: 37.068741\n",
      "  Number of iterations: 300\n",
      "  Number of functions evaluations: 334\n"
     ]
    },
    {
     "name": "stderr",
     "output_type": "stream",
     "text": [
      "INFO:tensorflow:Optimization terminated with:\n",
      "  Message: b'STOP: TOTAL NO. of ITERATIONS REACHED LIMIT'\n",
      "  Objective function value: 37.068741\n",
      "  Number of iterations: 300\n",
      "  Number of functions evaluations: 334\n"
     ]
    },
    {
     "name": "stdout",
     "output_type": "stream",
     "text": [
      "La log-verosimilitud del modelo es -34.46370962162432\n"
     ]
    }
   ],
   "source": [
    "X, y = sklearn.datasets.load_iris(return_X_y=True)\n",
    "print('El tamaño de este dataset es', X.shape)\n",
    "X_train, X_test, y_train, y_test = model_selection.train_test_split(X, y, test_size=0.4, random_state = 100)\n",
    "m = gpflow.models.VGP(X_train, y_train.reshape(-1,1), kern=gpflow.kernels.RBF(X_train.shape[1], ARD = True), likelihood=gpflow.likelihoods.MultiClass(3), num_latent=3)\n",
    "gpflow.train.ScipyOptimizer().minimize(m, maxiter=300)\n",
    "print('La log-verosimilitud del modelo es', m.compute_log_likelihood())"
   ]
  },
  {
   "cell_type": "code",
   "execution_count": 3,
   "metadata": {},
   "outputs": [],
   "source": [
    "pred_gp = m.predict_y(X_test)\n",
    "pred_gp = np.argmax(pred_gp[0], 1)\n",
    "acc_gp = sklearn.metrics.accuracy_score(y_test, pred_gp)"
   ]
  },
  {
   "cell_type": "code",
   "execution_count": null,
   "metadata": {},
   "outputs": [],
   "source": [
    "rf_model = sklearn.ensemble.RandomForestClassifier(n_estimators = 200, max_depth = 12, random_state = 12)\n",
    "rf_model.fit(X_train, y_train)\n",
    "pred_rf = rf_model.predict(X_test)\n",
    "acc_rf = sklearn.metrics.accuracy_score(y_test, pred_rf)"
   ]
  },
  {
   "cell_type": "code",
   "execution_count": null,
   "metadata": {},
   "outputs": [],
   "source": [
    "print('El accuracy del random forest es ', acc_rf, 'mientras que en el modelo GP es ', acc_gp)"
   ]
  },
  {
   "cell_type": "markdown",
   "metadata": {},
   "source": [
    "Importancia de las variables en iris"
   ]
  },
  {
   "cell_type": "code",
   "execution_count": null,
   "metadata": {},
   "outputs": [],
   "source": [
    "m.kern.lengthscales.as_pandas_table()['value'][0]"
   ]
  },
  {
   "cell_type": "markdown",
   "metadata": {},
   "source": [
    "Podemos ver que las segunda variable es la más información nos da sobre la clase del iris. Aún así todas son relevantes, si alguna variable estuviera cerca de $0$ nos indicaría que no afecta en nada para la clasificación."
   ]
  }
 ],
 "metadata": {
  "kernelspec": {
   "display_name": "Python 3",
   "language": "python",
   "name": "python3"
  },
  "language_info": {
   "codemirror_mode": {
    "name": "ipython",
    "version": 3
   },
   "file_extension": ".py",
   "mimetype": "text/x-python",
   "name": "python",
   "nbconvert_exporter": "python",
   "pygments_lexer": "ipython3",
   "version": "3.5.6"
  }
 },
 "nbformat": 4,
 "nbformat_minor": 2
}
