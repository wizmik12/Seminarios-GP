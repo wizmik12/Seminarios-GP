{
 "cells": [
  {
   "cell_type": "markdown",
   "metadata": {},
   "source": [
    "# Seminarios de Procesos Gaussianos\n",
    "\n",
    "### Grupo de procesamiento de la información visual (VIP) "
   ]
  },
  {
   "cell_type": "markdown",
   "metadata": {},
   "source": [
    "<div style=\"text-align: right\"> Miguel López Pérez - mlopezp@ugr.es </div>"
   ]
  },
  {
   "cell_type": "markdown",
   "metadata": {},
   "source": [
    "# GUIÓN VI: Procesos Gaussianos Profundos"
   ]
  },
  {
   "cell_type": "code",
   "execution_count": 1,
   "metadata": {},
   "outputs": [],
   "source": [
    "import numpy as np\n",
    "import tensorflow as tf\n",
    "from scipy.stats import mode\n",
    "import warnings\n",
    "tf.logging.set_verbosity(0)\n",
    "import pandas as pd\n",
    "from sklearn import model_selection\n",
    "from sklearn import datasets\n",
    "from sklearn import metrics\n",
    "\n",
    "import matplotlib.pyplot as plt\n",
    "from scipy.special import logsumexp\n",
    "from scipy.stats import norm\n",
    "from scipy.cluster.vq import kmeans2\n",
    "%matplotlib inline\n",
    "plt.style.use('ggplot')\n",
    "\n",
    "from doubly_stochastic_dgp.dgp import DGP\n",
    "import gpflow"
   ]
  },
  {
   "cell_type": "markdown",
   "metadata": {},
   "source": [
    "Los procesos gaussianos tienen una gran flexibilidad por lo que pueden representar un gran número de funciones. Con kernels estacionarios como RBF o Matern podemos alcanzar ese gran poder de representación. Pero habrá cierto tipo de funciones más complejas que no podremos representar.\n",
    "\n",
    "**Pregunta:** ¿Qué funciones no podremos representar con un GP con núcleo RBF?\n",
    "\n",
    "Para resolver esta limitación de los GP surgen los Procesos Gaussianos Profundos (DGP). Haciendo una jerarquía de capas con Procesos Gaussianos (como las redes neuronales) se pueden modelar funciones más complejas sin necesidad de diseñar kernels específicos (que pueden ser muy difícil de modelar) para cada tarea."
   ]
  },
  {
   "cell_type": "markdown",
   "metadata": {},
   "source": [
    "## Funciones auxiliares"
   ]
  },
  {
   "cell_type": "markdown",
   "metadata": {},
   "source": [
    "Presentamos varias funciones auxiliares para regresión y para clasificación. A grandes rasgos hay tres tipos:\n",
    "* Crear modelo DGP: estas funciones nos crearán un DGP con un determinado número de capas.\n",
    "* Predicción de un modelo DGP: para predecir se suelen usar batches. Habrá un par de funciones. Una irá metiendo los datos en batches y la otra realizará la predicción de cada batch. Recordamos que para predecir hay que muestrear la a posteriori.\n",
    "* Evaluación del modelo DGP: esta función evaluará nuestro modelo DGP con RMSE (raíz del error cuadrático medio) o Accuracy (en clasificación). Además también devolverá la log-verosimilitud evaluada en test."
   ]
  },
  {
   "cell_type": "markdown",
   "metadata": {},
   "source": [
    "###  <span style=\"color:blue\">Regresión</span>"
   ]
  },
  {
   "cell_type": "markdown",
   "metadata": {},
   "source": [
    "##### Pintar modelo GP\n",
    "Con esta función podemos crear y entrenar un GP para regresión y pintarlo como en notebooks anteriores."
   ]
  },
  {
   "cell_type": "code",
   "execution_count": 2,
   "metadata": {},
   "outputs": [],
   "source": [
    "def train_and_plot_gp(X, Y, kernel):\n",
    "    Ns = 300\n",
    "    Xs = np.linspace(-0.5, 1.5, Ns)[:, None]\n",
    "    m_gp = gpflow.models.GPR(X, Y, kernel)\n",
    "    gpflow.training.ScipyOptimizer().minimize(m_gp)\n",
    "    m, v = m_gp.predict_y(Xs)\n",
    "    plt.plot(Xs, m, color='r', label = 'GP')\n",
    "    l = (m - 2*v**0.5).flatten()\n",
    "    u = (m + 2*v**0.5).flatten()\n",
    "    plt.fill_between(Xs.flatten(), l, u, alpha=0.1)\n",
    "    plt.title('GP (1 capa)')\n",
    "    plt.scatter(X, Y)"
   ]
  },
  {
   "cell_type": "markdown",
   "metadata": {},
   "source": [
    "##### Varios modelos GP sparse\n",
    "Con esta función podemos crear y entrenar varios modelos sparse para regresión basados en GP: FITC, collapsing (SGPR) y estocástico (SVGP)."
   ]
  },
  {
   "cell_type": "code",
   "execution_count": 3,
   "metadata": {},
   "outputs": [],
   "source": [
    "def make_single_layer_models(X, Y, M):\n",
    "    Z = kmeans2(X, M, minit='points')[0]\n",
    "    D = X.shape[1]\n",
    "    m_sgpr = gpflow.models.SGPR(X, Y, gpflow.kernels.RBF(D), Z.copy())\n",
    "    m_svgp = gpflow.models.SVGP(X, Y, gpflow.kernels.RBF(D), gpflow.likelihoods.Gaussian(), Z.copy())\n",
    "    m_fitc = gpflow.models.GPRFITC(X, Y, gpflow.kernels.RBF(D), Z.copy())\n",
    "    for m in m_sgpr, m_svgp, m_fitc:\n",
    "        m.likelihood.variance = 0.01\n",
    "    return [m_sgpr, m_svgp, m_fitc], ['{} {}'.format(n, len(Z)) for n in ['SGPR', 'SVGP', 'FITC']]"
   ]
  },
  {
   "cell_type": "markdown",
   "metadata": {},
   "source": [
    "##### Modelo DGP\n",
    "Con esta función podemos crear un DGP para regresión de $L$ capas, especificándole los rasgos $X$, la variable objetivo $Y$ y el número $M$ de puntos inductores. Se usará un núcleo RBF+White en cada capa."
   ]
  },
  {
   "cell_type": "code",
   "execution_count": 4,
   "metadata": {},
   "outputs": [],
   "source": [
    "def make_regression_DGP(L, X, Y, M):\n",
    "    Z = kmeans2(X, M, minit='points')[0]\n",
    "    kernels = []\n",
    "    for l in range(L):\n",
    "        k = gpflow.kernels.RBF(X.shape[1], lengthscales=0.2, variance=1.) + gpflow.kernels.White(X.shape[1], variance=1e-5)\n",
    "        kernels.append(k)\n",
    "\n",
    "    m_dgp = DGP(X, Y, Z, kernels, gpflow.likelihoods.Gaussian(), num_samples=100)\n",
    "    \n",
    "    # init the layers to near determinisic \n",
    "    for layer in m_dgp.layers[:-1]:\n",
    "        layer.q_sqrt = layer.q_sqrt.value * 1e-5\n",
    "    return m_dgp"
   ]
  },
  {
   "cell_type": "markdown",
   "metadata": {},
   "source": [
    "##### Varios modelos DGP\n",
    "Con esta función podemos crear un DGP de 1, 2 y 3 capas para regresión"
   ]
  },
  {
   "cell_type": "code",
   "execution_count": 5,
   "metadata": {},
   "outputs": [],
   "source": [
    "def make_dgp_models(X, Y, M):\n",
    "    Z = kmeans2(X, M, minit='points')[0]\n",
    "    models, names = [], []\n",
    "    for L in range(1, 4):\n",
    "        D = X.shape[1]\n",
    "\n",
    "        # the layer shapes are defined by the kernel dims, so here all hidden layers are D dimensional \n",
    "        kernels = []\n",
    "        for l in range(L):\n",
    "            kernels.append(gpflow.kernels.RBF(D))\n",
    "\n",
    "        # between layer noise (doesn't actually make much difference but we include it anyway)\n",
    "        for kernel in kernels[:-1]:\n",
    "            kernel += gpflow.kernels.White(D, variance=1e-5) \n",
    "\n",
    "        mb = 1000 if X.shape[0] > 1000 else None \n",
    "        model = DGP(X, Y, Z, kernels, gpflow.likelihoods.Gaussian(), num_samples=5, minibatch_size=mb)\n",
    "\n",
    "        # start the inner layers almost deterministically \n",
    "        for layer in model.layers[:-1]:\n",
    "            layer.q_sqrt = layer.q_sqrt.value * 1e-5\n",
    "\n",
    "        models.append(model)\n",
    "        names.append('DGP{} {}'.format(L, len(Z)))\n",
    "    \n",
    "    return models, names"
   ]
  },
  {
   "cell_type": "markdown",
   "metadata": {},
   "source": [
    "##### Muestreo de las capas\n",
    "Con esta función pintaremos varios muestreos de nuestra función latente $f$ en cada capa del DGP para regresión."
   ]
  },
  {
   "cell_type": "code",
   "execution_count": 6,
   "metadata": {},
   "outputs": [],
   "source": [
    "def plot_layers(model, X, Y):\n",
    "    Ns = 300\n",
    "    Xs = np.linspace(-0.5, 1.5, Ns)[:, None]\n",
    "    L = len(model.layers)\n",
    "    f, axs = plt.subplots(L, 1, figsize=(4, 2*L), sharex=True)\n",
    "    if L == 1:\n",
    "        axs = [axs, ]\n",
    "\n",
    "    samples, _, _ = model.predict_all_layers_full_cov(Xs, 10)\n",
    "    for s, ax in zip(samples, axs):\n",
    "        ax.plot(Xs.flatten(), s[:, :, 0].T, alpha=0.2, color = 'r')\n",
    "\n",
    "    axs[-1].scatter(X, Y)\n",
    "    for l in range(L):\n",
    "        axs[l].set_title('capa {}'.format(l+1))\n",
    "    plt.show()"
   ]
  },
  {
   "cell_type": "markdown",
   "metadata": {},
   "source": [
    "##### Predicción de DGP\n",
    "Presentamos dos funciones para predecir regresión. La primera especifica que vamos a predecir en batches para aligerar la memoria y llama a la segunda que será la que dé las predicciones de cada batch. Al ser un modelo doblemente estocástico tenemos que muestrear de la distribución a posteriori de la última capa que será ¿una mezcla de gaussianas?, tomaremos $S$ muestras y nos quedaremos con el valor medio.\n"
   ]
  },
  {
   "cell_type": "code",
   "execution_count": 7,
   "metadata": {},
   "outputs": [],
   "source": [
    "def batch_prediction_regression(model, prediction_model, X, S=300):\n",
    "    n_batches = max(int(X.shape[0]/1000.), 1)\n",
    "    mean_list = []\n",
    "    for X_batch in zip(np.array_split(X, n_batches)):\n",
    "        X_batch = np.array(X_batch).reshape(-1,1)\n",
    "        mean = prediction_model(model, X_batch, S)\n",
    "        mean_list.append(mean)\n",
    "    mean = np.concatenate(mean_list, 0)\n",
    "    return mean\n",
    "\n",
    "def prediction_regression(model, X_batch, S):\n",
    "    m, v = model.predict_y(X_batch, S)\n",
    "    mean = np.average(m, 0)\n",
    "    return mean"
   ]
  },
  {
   "cell_type": "markdown",
   "metadata": {},
   "source": [
    "##### Evaluación de los modelos"
   ]
  },
  {
   "cell_type": "markdown",
   "metadata": {},
   "source": [
    "Estas funciones nos devolverán las métricas de regresión sobre el test. Estas métricas serán el error cuadrático medio y la log-t verosimilitud. Entenderemos el test likelihood como la media de los $\\log p(y_*\\mid X, f, y)$ con $y_*$ las instancias de test."
   ]
  },
  {
   "cell_type": "code",
   "execution_count": 8,
   "metadata": {},
   "outputs": [],
   "source": [
    "def batch_assess_regression(model, assess_model, X, Y, Y_std, S = 100):\n",
    "    n_batches = max(int(X.shape[0]/1000.), 1)\n",
    "    lik, sq_diff = [], []\n",
    "    for X_batch, Y_batch in zip(np.array_split(X, n_batches), np.array_split(Y, n_batches)):\n",
    "        l, sq = assess_model(model, X_batch, Y_batch, Y_std, S)\n",
    "        lik.append(l)\n",
    "        sq_diff.append(sq)\n",
    "    lik = np.concatenate(lik, 0)\n",
    "    sq_diff = np.array(np.concatenate(sq_diff, 0), dtype=float)\n",
    "    return np.average(lik), np.average(sq_diff)**0.5\n",
    "\n",
    "def assess_single_layer(model, X_batch, Y_batch, Y_std, S):\n",
    "    m, v = model.predict_y(X_batch)\n",
    "    lik = np.sum(norm.logpdf(Y_batch*Y_std, loc=m*Y_std, scale=Y_std*v**0.5),  1)\n",
    "    sq_diff = Y_std**2*((m - Y_batch)**2)\n",
    "    return lik, sq_diff \n",
    "\n",
    "def assess_sampled(model, X_batch, Y_batch, Y_std, S):\n",
    "    m, v = model.predict_y(X_batch, S)\n",
    "    S_lik = np.sum(norm.logpdf(Y_batch*Y_std, loc=m*Y_std, scale=Y_std*v**0.5), 2)\n",
    "    lik = logsumexp(S_lik, 0, b=1/float(S))\n",
    "    \n",
    "    mean = np.average(m, 0)\n",
    "    sq_diff = Y_std**2*((mean - Y_batch)**2)\n",
    "    return lik, sq_diff"
   ]
  },
  {
   "cell_type": "markdown",
   "metadata": {},
   "source": [
    "###  <span style=\"color:blue\">Clasificación</span>"
   ]
  },
  {
   "cell_type": "markdown",
   "metadata": {},
   "source": [
    "##### Modelo de clasificación binaria"
   ]
  },
  {
   "cell_type": "code",
   "execution_count": 9,
   "metadata": {},
   "outputs": [],
   "source": [
    "def make_binary_dgp(L, X, Y, M):\n",
    "    Z = kmeans2(X, M, minit='points')[0]\n",
    "    kernels = [gpflow.kernels.RBF(X.shape[1], lengthscales=2., variance=2.)]\n",
    "    for l in range(L-1):\n",
    "        kernels.append(gpflow.kernels.RBF(X.shape[1], lengthscales=2., variance=2.))\n",
    "    model = DGP(X, Y, Z, kernels, gpflow.likelihoods.Bernoulli())\n",
    "    \n",
    "    # start things deterministic \n",
    "    for layer in model.layers[:-1]:\n",
    "        layer.q_sqrt = layer.q_sqrt.value * 1e-5 \n",
    "    \n",
    "    return model"
   ]
  },
  {
   "cell_type": "markdown",
   "metadata": {},
   "source": [
    "##### Predicción en clasificación binaria"
   ]
  },
  {
   "cell_type": "markdown",
   "metadata": {},
   "source": [
    "Devolvemos la probabilidad de ser de la clase positiva."
   ]
  },
  {
   "cell_type": "code",
   "execution_count": 10,
   "metadata": {},
   "outputs": [],
   "source": [
    "def batch_prediction_binary_classification(model, prediction_model, X, S=300):\n",
    "    n_batches = max(int(X.shape[0]/1000.), 1)\n",
    "    prob_list = []\n",
    "    for X_batch in zip(np.array_split(X, n_batches)):\n",
    "        X_batch = np.array(X_batch)\n",
    "        X_batch =  np.squeeze(X_batch, axis=0)\n",
    "        prob = prediction_model(model, X_batch, S)\n",
    "        prob_list.append(prob)\n",
    "    prob = np.concatenate(prob_list, 0)\n",
    "    return prob\n",
    "\n",
    "def prediction_binary_dgp(model, X_batch, Y_batch, S=100):\n",
    "    m, v = model.predict_y(X_batch, S)\n",
    "    prob = np.average(m,0)\n",
    "    return prob"
   ]
  },
  {
   "cell_type": "markdown",
   "metadata": {},
   "source": [
    "##### Evaluación en clasificación binaria"
   ]
  },
  {
   "cell_type": "markdown",
   "metadata": {},
   "source": [
    "En este caso la evaluación consistirá en el accuracy y la log-verosimilitud media en test $\\log p(y_*\\mid X, f, y)$."
   ]
  },
  {
   "cell_type": "code",
   "execution_count": 11,
   "metadata": {},
   "outputs": [],
   "source": [
    "def assess_binary_sgp(model, X_batch, Y_batch, S=100):\n",
    "    m, v = model.predict_y(X_batch)\n",
    "    l = model.predict_density(X_batch, Y_batch)\n",
    "    pred = np.array([1 if x >0.5 else 0 for x in m])\n",
    "    a = (pred.reshape(Y_batch.shape).astype(int)==Y_batch.astype(int))\n",
    "    return l, a\n",
    "\n",
    "def assess_binary_dgp(model, X_batch, Y_batch, S=100):\n",
    "    m, v = model.predict_y(X_batch, S)\n",
    "    l = model.predict_density(X_batch, Y_batch, S)\n",
    "    prob = np.average(m,0)\n",
    "    pred = np.array([1 if x >0.5 else 0 for x in prob])\n",
    "    a = (pred.reshape(Y_batch.shape).astype(int)==Y_batch.astype(int))\n",
    "    return l, a\n",
    "\n",
    "def batch_assess_classification(model, assess_model, X, Y, S=100):\n",
    "    n_batches = max(int(len(X)/1000), 1)\n",
    "    lik, acc = [], []\n",
    "    for X_batch, Y_batch in zip(np.split(X, n_batches), np.split(Y, n_batches)):\n",
    "        l, a = assess_model(model, X_batch, Y_batch, S)\n",
    "        lik.append(l)\n",
    "        acc.append(a)\n",
    "    lik = np.concatenate(lik, 0)\n",
    "    acc = np.array(np.concatenate(acc, 0), dtype=float)\n",
    "    return np.average(lik), np.average(acc)"
   ]
  },
  {
   "cell_type": "markdown",
   "metadata": {},
   "source": [
    "##### Modelo de clasificación multiclase"
   ]
  },
  {
   "cell_type": "markdown",
   "metadata": {},
   "source": [
    "Función para hacer un DGP de $L$ capas para clasificación multiclase. Especificaremos el número de clases con *n_class*."
   ]
  },
  {
   "cell_type": "code",
   "execution_count": 12,
   "metadata": {},
   "outputs": [],
   "source": [
    "def make_multiclass_dgp(L, X, Y, M, n_class):\n",
    "    Z = kmeans2(X, M, minit='points')[0]\n",
    "    kernels = [gpflow.kernels.RBF(X.shape[1], lengthscales=2., variance=2.)]\n",
    "    for l in range(L-1):\n",
    "        kernels.append(gpflow.kernels.RBF(30, lengthscales=2., variance=2.))\n",
    "    model = DGP(X, Y, Z, kernels, gpflow.likelihoods.MultiClass(n_class), \n",
    "                minibatch_size=1000,\n",
    "                num_outputs=10)\n",
    "    \n",
    "    # start things deterministic \n",
    "    for layer in model.layers[:-1]:\n",
    "        layer.q_sqrt = layer.q_sqrt.value * 1e-5 \n",
    "    \n",
    "    return model"
   ]
  },
  {
   "cell_type": "markdown",
   "metadata": {},
   "source": [
    "##### Predicción en clasificación multiclase"
   ]
  },
  {
   "cell_type": "markdown",
   "metadata": {},
   "source": [
    "**Ejercicio:** Construir la función que nos devolvería la predicción de un DGP multiclase."
   ]
  },
  {
   "cell_type": "markdown",
   "metadata": {},
   "source": [
    "##### Evaluación en clasificación multiclase"
   ]
  },
  {
   "cell_type": "markdown",
   "metadata": {},
   "source": [
    "Funciones para la evaluación en clasificación multiclase. Calculará el accuray y la log-verosimilitud media en test. En el caso de SGP nos quedaremos con la clase que tenga mayor probabilidad. Sin embargo, en el caso de los DGP al tener $S$ muestras vamos a tener una matriz de tamaño $(S,N,C)$ siendo $S$ el número de muestras de la a posteriori, $N$ el número de instancias y $C$ el número de clases. Es decir, para cada instancia tendremos para cada clase $S$ probabilidades distintas de pertenencia. Calcularemos la media de probabilidades para cada clase a través de las $S$ realizaciones y después calcularemos cual es la clase que tiene mayor probabilidad para cada instancia."
   ]
  },
  {
   "cell_type": "code",
   "execution_count": 13,
   "metadata": {},
   "outputs": [],
   "source": [
    "def assess_multiclass_dgp(model, X_batch, Y_batch,S=100):\n",
    "    m, v = model.predict_y(X_batch, S)\n",
    "    l = model.predict_density(X_batch, Y_batch, S)\n",
    "    a = (mode(np.argmax(m, 2), 0)[0].reshape(Y_batch.shape).astype(int)==Y_batch.astype(int))\n",
    "    return l, a"
   ]
  },
  {
   "cell_type": "code",
   "execution_count": 14,
   "metadata": {},
   "outputs": [],
   "source": [
    "def assess_multiclass_sgp(model, X_batch, Y_batch, S=100):\n",
    "    m, v = model.predict_y(X_batch)\n",
    "    l = model.predict_density(X_batch, Y_batch)\n",
    "    a = (np.argmax(m, 1).reshape(Y_batch.shape).astype(int)==Y_batch.astype(int))\n",
    "    return l, a"
   ]
  },
  {
   "cell_type": "markdown",
   "metadata": {},
   "source": [
    "## Ejemplo de Regresión: Función escalón"
   ]
  },
  {
   "cell_type": "markdown",
   "metadata": {},
   "source": [
    "Uno de los ejemplos más típicos para ilustrar la limitación de un GP con un núcleo Gaussiano es la función escalón. La cual se define como \n",
    "\n",
    "$$f(x)= \\left\\{ \\begin{array}{lcc}\n",
    "             0 &   si  & x < 0.5 \\\\\n",
    "             \\\\ 1 &  si & 0.5 \\ge x \\\\\n",
    "             \\end{array}\n",
    "   \\right.$$\n",
    "  \n",
    "Esta función es suave a trozos pero presenta una discontinuidad en el punto $x=0.5$. En este ejemplo, muestrearemos una variable ruidosa $y = f(x) + \\epsilon$ en $75$ puntos.\n",
    "\n",
    "Entrenamos un GP en este conjunto de datos observados y lo pintamos:"
   ]
  },
  {
   "cell_type": "code",
   "execution_count": 15,
   "metadata": {},
   "outputs": [
    {
     "name": "stderr",
     "output_type": "stream",
     "text": [
      "WARNING:gpflow.logdensities:Shape of x must be 2D at computation.\n"
     ]
    },
    {
     "data": {
      "text/plain": [
       "(-0.1, 1.2)"
      ]
     },
     "execution_count": 15,
     "metadata": {},
     "output_type": "execute_result"
    },
    {
     "data": {
      "image/png": "[encoded data removed]",
      "text/plain": [
       "<Figure size 432x288 with 1 Axes>"
      ]
     },
     "metadata": {
      "needs_background": "light"
     },
     "output_type": "display_data"
    }
   ],
   "source": [
    "np.random.seed(200) #Semilla\n",
    "\n",
    "Ns = 300\n",
    "Xs = np.linspace(-0.5, 1.5, Ns)[:, None]\n",
    "N, M = 75, 25\n",
    "X = np.random.uniform(0, 1, N)[:, None]\n",
    "f_step = lambda x: 0. if x<0.5 else 1.\n",
    "Y = np.reshape([f_step(x) for x in X], X.shape) + np.random.randn(*X.shape)*1e-2\n",
    "\n",
    "#Entrenamos y pintamos un GP completo\n",
    "train_and_plot_gp(X, Y, gpflow.kernels.RBF(1, lengthscales=0.2))\n",
    "plt.ylim(-0.1,1.2)"
   ]
  },
  {
   "cell_type": "markdown",
   "metadata": {},
   "source": [
    "Entrenamos un DGP y muestreamos cada capa."
   ]
  },
  {
   "cell_type": "code",
   "execution_count": 16,
   "metadata": {
    "scrolled": true
   },
   "outputs": [
    {
     "name": "stdout",
     "output_type": "stream",
     "text": [
      "1 1\n"
     ]
    },
    {
     "data": {
      "image/png": "[encoded data removed]",
      "text/plain": [
       "<Figure size 288x288 with 2 Axes>"
      ]
     },
     "metadata": {
      "needs_background": "light"
     },
     "output_type": "display_data"
    }
   ],
   "source": [
    "m_dgp_2 = make_regression_DGP(2, X, Y, 20)\n",
    "gpflow.training.AdamOptimizer(0.01).minimize(m_dgp_2, maxiter=2000)\n",
    "plot_layers(m_dgp_2, X, Y)"
   ]
  },
  {
   "cell_type": "markdown",
   "metadata": {},
   "source": [
    "Entrenamos una DGP con 3 capas y muestreamos cada capa."
   ]
  },
  {
   "cell_type": "code",
   "execution_count": 17,
   "metadata": {},
   "outputs": [
    {
     "name": "stdout",
     "output_type": "stream",
     "text": [
      "1 1\n",
      "1 1\n"
     ]
    },
    {
     "data": {
      "image/png": "[encoded data removed]",
      "text/plain": [
       "<Figure size 288x432 with 3 Axes>"
      ]
     },
     "metadata": {
      "needs_background": "light"
     },
     "output_type": "display_data"
    }
   ],
   "source": [
    "m_dgp_3 = make_regression_DGP(3, X, Y, 20)\n",
    "gpflow.training.AdamOptimizer(0.01).minimize(m_dgp_3, maxiter=2000)\n",
    "plot_layers(m_dgp_3, X, Y)"
   ]
  },
  {
   "cell_type": "markdown",
   "metadata": {},
   "source": [
    "Por último, vamos a ver cuales serían las predicciones de cada modelo profundo. Para ello usaremos una de las funciones definidas al principio. Mostramos en el siguiente gráfico la comparación del modelo de 1, 2 y 3 capas."
   ]
  },
  {
   "cell_type": "code",
   "execution_count": 18,
   "metadata": {},
   "outputs": [
    {
     "name": "stderr",
     "output_type": "stream",
     "text": [
      "WARNING:gpflow.logdensities:Shape of x must be 2D at computation.\n"
     ]
    },
    {
     "data": {
      "text/plain": [
       "<matplotlib.legend.Legend at 0x19e0df51cc0>"
      ]
     },
     "execution_count": 18,
     "metadata": {},
     "output_type": "execute_result"
    },
    {
     "data": {
      "image/png": "[encoded data removed]",
      "text/plain": [
       "<Figure size 1440x1440 with 1 Axes>"
      ]
     },
     "metadata": {
      "needs_background": "light"
     },
     "output_type": "display_data"
    }
   ],
   "source": [
    "plt.figure(figsize=(20,20))\n",
    "train_and_plot_gp(X, Y, gpflow.kernels.RBF(1, lengthscales=0.2))\n",
    "mean = batch_prediction_regression(m_dgp_2, prediction_regression, Xs.flatten(), 400)\n",
    "plt.plot(Xs, mean, label = 'DGP (2 capas)', alpha = 0.5, linewidth = 4.0)\n",
    "mean = batch_prediction_regression(m_dgp_3, prediction_regression, Xs.flatten(), 400)\n",
    "plt.plot(Xs, mean, label = 'DGP (3 capas)', alpha = 0.5, linewidth= 4.0)\n",
    "plt.title('Función escalón')\n",
    "plt.legend(loc='upper left', prop={'size': 30})"
   ]
  },
  {
   "cell_type": "markdown",
   "metadata": {},
   "source": [
    "## Ejemplo de regresión: kin8nm"
   ]
  },
  {
   "cell_type": "markdown",
   "metadata": {},
   "source": [
    "Este conjunto de datos se refiere a la cinemática directa de un brazo robótico de 8 enlaces. Entre las variantes existentes de este conjunto de datos, hemos utilizado la variante de 8 nm, que se sabe que es altamente no lineal y ruidosa. Consta de 8 rasgos numéricos continuos y una variable continua objetivo la cual querremos modelar en este problema de regresión.\n",
    "\n",
    "En primer lugar dividimos los datos en train y test y los normalizamos usando una Z-score."
   ]
  },
  {
   "cell_type": "code",
   "execution_count": 19,
   "metadata": {},
   "outputs": [],
   "source": [
    "data = pd.read_csv('kin8nm.csv')\n",
    "X = data.iloc[:,:8].values\n",
    "y = data.iloc[:,8].values\n",
    "X_train, X_test, y_train, y_test = model_selection.train_test_split(X, y, test_size=0.2, random_state = 100)\n",
    "\n",
    "#Normalizacion\n",
    "mean_train = X_train.mean(0)\n",
    "std_train = X_train.std(0)\n",
    "X_train = (X_train - mean_train)/std_train\n",
    "X_test = (X_test - mean_train)/std_train\n",
    "\n",
    "Y_mean = y_train.mean(0)\n",
    "Y_std = y_train.std(0)\n",
    "y_train = (y_train - Y_mean)/Y_std\n",
    "y_test = (y_test - Y_mean)/Y_std"
   ]
  },
  {
   "cell_type": "markdown",
   "metadata": {},
   "source": [
    "Definimos pocas y muchas iteraciones para comparar el número de iteraciones que se requeriría. Vamos a entrenar modelos no profundos: collapsing, variacional estocástico y collapsing.  Además de profundos con 1, 2 y 3 capas. Todos los modelos van a tener 100 puntos inductores."
   ]
  },
  {
   "cell_type": "code",
   "execution_count": 20,
   "metadata": {},
   "outputs": [],
   "source": [
    "iterations_few = 100\n",
    "iterations_many = 5000\n",
    "s = '{:<16}  test log-verosimilitud: {:.4f}, rmse: {:.4f}'"
   ]
  },
  {
   "cell_type": "markdown",
   "metadata": {},
   "source": [
    "##### Modelos no profundos"
   ]
  },
  {
   "cell_type": "code",
   "execution_count": 22,
   "metadata": {},
   "outputs": [
    {
     "name": "stdout",
     "output_type": "stream",
     "text": [
      "después de 100 iteraciones\n",
      "SGPR 100          test log-verosimilitud: 0.9398, rmse: 0.0904\n",
      "SVGP 100          test log-verosimilitud: 0.6963, rmse: 0.1185\n",
      "FITC 100          test log-verosimilitud: 1.0506, rmse: 0.0922\n",
      "después de 5000 iteraciones\n",
      "SGPR 100          test log-verosimilitud: 0.9646, rmse: 0.0876\n",
      "SVGP 100          test log-verosimilitud: 0.9640, rmse: 0.0876\n",
      "FITC 100          test log-verosimilitud: 1.1234, rmse: 0.0833\n"
     ]
    }
   ],
   "source": [
    "models_single_layer, names_single_layer = make_single_layer_models(X_train, y_train.reshape(-1,1), 100)\n",
    "\n",
    "for iterations in [iterations_few, iterations_many]:\n",
    "    print('después de {} iteraciones'.format(iterations))\n",
    "    for m, name in zip(models_single_layer, names_single_layer):\n",
    "        gpflow.training.ScipyOptimizer().minimize(m, maxiter=iterations)\n",
    "        lik, rmse = batch_assess_regression(m, assess_single_layer, X_test, y_test.reshape(-1,1), Y_std)\n",
    "        print(s.format(name, lik, rmse))"
   ]
  },
  {
   "cell_type": "markdown",
   "metadata": {},
   "source": [
    "##### Modelos  profundos"
   ]
  },
  {
   "cell_type": "code",
   "execution_count": 24,
   "metadata": {},
   "outputs": [
    {
     "name": "stdout",
     "output_type": "stream",
     "text": [
      "8 8\n",
      "8 8\n",
      "8 8\n",
      "después de 100 iteraciones\n",
      "DGP1 100          test log-verosimilitud: 0.2686, rmse: 0.1154\n",
      "DGP2 100          test log-verosimilitud: 0.2254, rmse: 0.1183\n",
      "DGP3 100          test log-verosimilitud: 0.1977, rmse: 0.1337\n",
      "después de 5000 iteraciones\n",
      "DGP1 100          test log-verosimilitud: 0.9372, rmse: 0.0905\n",
      "DGP2 100          test log-verosimilitud: 1.3302, rmse: 0.0634\n",
      "DGP3 100          test log-verosimilitud: 1.3450, rmse: 0.0623\n"
     ]
    }
   ],
   "source": [
    "models_dgp, names_dgp = make_dgp_models(X_train, y_train.reshape(-1,1), 100)\n",
    "for iterations in [iterations_few, iterations_many]:\n",
    "    print('después de {} iteraciones'.format(iterations))\n",
    "    for m, name in zip(models_dgp, names_dgp):\n",
    "        gpflow.training.AdamOptimizer(0.01).minimize(m, maxiter=iterations)\n",
    "        lik, rmse = batch_assess_regression(m, assess_sampled, X_test, y_test.reshape(-1,1), Y_std)\n",
    "        print(s.format(name, lik, rmse))"
   ]
  },
  {
   "cell_type": "markdown",
   "metadata": {},
   "source": [
    "## Ejemplo de clasificación binaria: breast cancer"
   ]
  },
  {
   "cell_type": "markdown",
   "metadata": {},
   "source": [
    "Volvemos al dataset de cáncer de mama. Lo dividimos en train y test y lo normalizamos."
   ]
  },
  {
   "cell_type": "code",
   "execution_count": 25,
   "metadata": {},
   "outputs": [],
   "source": [
    "X, y = datasets.load_breast_cancer(return_X_y=True)"
   ]
  },
  {
   "cell_type": "code",
   "execution_count": 26,
   "metadata": {},
   "outputs": [],
   "source": [
    "X_train, X_test, y_train, y_test = model_selection.train_test_split(X, y, test_size=0.25, random_state = 100)\n",
    "\n",
    "#Normalizacion\n",
    "mean_train = X_train.mean(0)\n",
    "std_train = X_train.std(0)\n",
    "X_train = (X_train - mean_train)/std_train\n",
    "X_test = (X_test - mean_train)/std_train"
   ]
  },
  {
   "cell_type": "markdown",
   "metadata": {},
   "source": [
    "Hacemos un modelo no profundo."
   ]
  },
  {
   "cell_type": "code",
   "execution_count": 27,
   "metadata": {},
   "outputs": [],
   "source": [
    "Z = kmeans2(X_train, 100, minit='points')[0]\n",
    "m_sgp = gpflow.models.SVGP(X_train, y_train.reshape(-1,1), gpflow.kernels.RBF(X_train.shape[1]), gpflow.likelihoods.Bernoulli(), \n",
    "             Z=Z)\n",
    "m_sgp.likelihood.variance = 0.1\n",
    "gpflow.train.AdamOptimizer(0.1).minimize(m_sgp, maxiter=300)\n",
    "gpflow.train.AdamOptimizer(0.01).minimize(m_sgp, maxiter=300)"
   ]
  },
  {
   "cell_type": "markdown",
   "metadata": {},
   "source": [
    "Lo evaluamos con log-verosimilitud media en test, accuracy y AUC."
   ]
  },
  {
   "cell_type": "code",
   "execution_count": 28,
   "metadata": {},
   "outputs": [
    {
     "name": "stdout",
     "output_type": "stream",
     "text": [
      "SGP - log-verosimilitud media en test: -0.0936, accuracy en test 0.9650\n"
     ]
    }
   ],
   "source": [
    "l, a = batch_assess_classification(m_sgp, assess_binary_sgp, X_test, y_test.reshape(-1,1))\n",
    "print('SGP - log-verosimilitud media en test: {:.4f}, accuracy en test {:.4f}'.format(l, a))"
   ]
  },
  {
   "cell_type": "code",
   "execution_count": 29,
   "metadata": {},
   "outputs": [
    {
     "name": "stdout",
     "output_type": "stream",
     "text": [
      "El AUC con un SGP es  0.9950738916256158\n"
     ]
    }
   ],
   "source": [
    "prob= m_sgp.predict_y(X_test)[0]\n",
    "from sklearn import metrics\n",
    "auc = metrics.roc_auc_score(y_test, prob)\n",
    "print(\"El AUC con un SGP es \", auc)"
   ]
  },
  {
   "cell_type": "markdown",
   "metadata": {},
   "source": [
    "Modelo profundo de 2 capas:"
   ]
  },
  {
   "cell_type": "code",
   "execution_count": 30,
   "metadata": {},
   "outputs": [
    {
     "name": "stdout",
     "output_type": "stream",
     "text": [
      "30 30\n"
     ]
    }
   ],
   "source": [
    "m_dgp2 = make_binary_dgp(2, X_train, y_train.reshape(-1,1), 100)\n",
    "gpflow.training.AdamOptimizer(0.01).minimize(m_dgp2, maxiter=20000)"
   ]
  },
  {
   "cell_type": "code",
   "execution_count": 31,
   "metadata": {},
   "outputs": [
    {
     "name": "stdout",
     "output_type": "stream",
     "text": [
      "El AUC con un DGP de 2 capas es  0.994663382594417\n"
     ]
    }
   ],
   "source": [
    "prob = batch_prediction_binary_classification(m_dgp2, prediction_binary_dgp, X_test, S=300)\n",
    "from sklearn import metrics\n",
    "auc = metrics.roc_auc_score(y_test, prob)\n",
    "print(\"El AUC con un DGP de 2 capas es \", auc)"
   ]
  },
  {
   "cell_type": "code",
   "execution_count": 32,
   "metadata": {},
   "outputs": [
    {
     "name": "stdout",
     "output_type": "stream",
     "text": [
      "DGP con 2 capas - verosimilitud en test: -0.0873, accuracy en test 0.9650\n"
     ]
    }
   ],
   "source": [
    "l, a = batch_assess_classification(m_dgp2, assess_binary_dgp, X_test, y_test.reshape(-1,1))\n",
    "print('DGP con 2 capas - verosimilitud en test: {:.4f}, accuracy en test {:.4f}'.format(l, a))"
   ]
  },
  {
   "cell_type": "markdown",
   "metadata": {},
   "source": [
    "## Ejemplo de clasificación multiclase: MNIST"
   ]
  },
  {
   "cell_type": "markdown",
   "metadata": {},
   "source": [
    "Como ejemplo de clasificación multiclase vamos a utilizar el MNIST que vimos en el anterior notebook. Vamos a comparar la bondad o calidad de los modelos aprendidos."
   ]
  },
  {
   "cell_type": "code",
   "execution_count": 14,
   "metadata": {},
   "outputs": [
    {
     "name": "stdout",
     "output_type": "stream",
     "text": [
      "WARNING:tensorflow:From <ipython-input-14-979bac7c6a60>:5: read_data_sets (from tensorflow.contrib.learn.python.learn.datasets.mnist) is deprecated and will be removed in a future version.\n",
      "Instructions for updating:\n",
      "Please use alternatives such as official/mnist/dataset.py from tensorflow/models.\n"
     ]
    },
    {
     "name": "stderr",
     "output_type": "stream",
     "text": [
      "WARNING:tensorflow:From <ipython-input-14-979bac7c6a60>:5: read_data_sets (from tensorflow.contrib.learn.python.learn.datasets.mnist) is deprecated and will be removed in a future version.\n",
      "Instructions for updating:\n",
      "Please use alternatives such as official/mnist/dataset.py from tensorflow/models.\n"
     ]
    },
    {
     "name": "stdout",
     "output_type": "stream",
     "text": [
      "WARNING:tensorflow:From C:\\Users\\Miguel\\Anaconda3\\envs\\gpflow\\lib\\site-packages\\tensorflow\\contrib\\learn\\python\\learn\\datasets\\mnist.py:260: maybe_download (from tensorflow.contrib.learn.python.learn.datasets.base) is deprecated and will be removed in a future version.\n",
      "Instructions for updating:\n",
      "Please write your own downloading logic.\n"
     ]
    },
    {
     "name": "stderr",
     "output_type": "stream",
     "text": [
      "WARNING:tensorflow:From C:\\Users\\Miguel\\Anaconda3\\envs\\gpflow\\lib\\site-packages\\tensorflow\\contrib\\learn\\python\\learn\\datasets\\mnist.py:260: maybe_download (from tensorflow.contrib.learn.python.learn.datasets.base) is deprecated and will be removed in a future version.\n",
      "Instructions for updating:\n",
      "Please write your own downloading logic.\n"
     ]
    },
    {
     "name": "stdout",
     "output_type": "stream",
     "text": [
      "WARNING:tensorflow:From C:\\Users\\Miguel\\Anaconda3\\envs\\gpflow\\lib\\site-packages\\tensorflow\\contrib\\learn\\python\\learn\\datasets\\mnist.py:262: extract_images (from tensorflow.contrib.learn.python.learn.datasets.mnist) is deprecated and will be removed in a future version.\n",
      "Instructions for updating:\n",
      "Please use tf.data to implement this functionality.\n"
     ]
    },
    {
     "name": "stderr",
     "output_type": "stream",
     "text": [
      "WARNING:tensorflow:From C:\\Users\\Miguel\\Anaconda3\\envs\\gpflow\\lib\\site-packages\\tensorflow\\contrib\\learn\\python\\learn\\datasets\\mnist.py:262: extract_images (from tensorflow.contrib.learn.python.learn.datasets.mnist) is deprecated and will be removed in a future version.\n",
      "Instructions for updating:\n",
      "Please use tf.data to implement this functionality.\n"
     ]
    },
    {
     "name": "stdout",
     "output_type": "stream",
     "text": [
      "Extracting /data/MNIST_data/train-images-idx3-ubyte.gz\n",
      "WARNING:tensorflow:From C:\\Users\\Miguel\\Anaconda3\\envs\\gpflow\\lib\\site-packages\\tensorflow\\contrib\\learn\\python\\learn\\datasets\\mnist.py:267: extract_labels (from tensorflow.contrib.learn.python.learn.datasets.mnist) is deprecated and will be removed in a future version.\n",
      "Instructions for updating:\n",
      "Please use tf.data to implement this functionality.\n"
     ]
    },
    {
     "name": "stderr",
     "output_type": "stream",
     "text": [
      "WARNING:tensorflow:From C:\\Users\\Miguel\\Anaconda3\\envs\\gpflow\\lib\\site-packages\\tensorflow\\contrib\\learn\\python\\learn\\datasets\\mnist.py:267: extract_labels (from tensorflow.contrib.learn.python.learn.datasets.mnist) is deprecated and will be removed in a future version.\n",
      "Instructions for updating:\n",
      "Please use tf.data to implement this functionality.\n"
     ]
    },
    {
     "name": "stdout",
     "output_type": "stream",
     "text": [
      "Extracting /data/MNIST_data/train-labels-idx1-ubyte.gz\n",
      "Extracting /data/MNIST_data/t10k-images-idx3-ubyte.gz\n",
      "Extracting /data/MNIST_data/t10k-labels-idx1-ubyte.gz\n",
      "WARNING:tensorflow:From C:\\Users\\Miguel\\Anaconda3\\envs\\gpflow\\lib\\site-packages\\tensorflow\\contrib\\learn\\python\\learn\\datasets\\mnist.py:290: DataSet.__init__ (from tensorflow.contrib.learn.python.learn.datasets.mnist) is deprecated and will be removed in a future version.\n",
      "Instructions for updating:\n",
      "Please use alternatives such as official/mnist/dataset.py from tensorflow/models.\n"
     ]
    },
    {
     "name": "stderr",
     "output_type": "stream",
     "text": [
      "WARNING:tensorflow:From C:\\Users\\Miguel\\Anaconda3\\envs\\gpflow\\lib\\site-packages\\tensorflow\\contrib\\learn\\python\\learn\\datasets\\mnist.py:290: DataSet.__init__ (from tensorflow.contrib.learn.python.learn.datasets.mnist) is deprecated and will be removed in a future version.\n",
      "Instructions for updating:\n",
      "Please use alternatives such as official/mnist/dataset.py from tensorflow/models.\n"
     ]
    }
   ],
   "source": [
    "with warnings.catch_warnings():   \n",
    "    warnings.simplefilter(\"ignore\")\n",
    "    def get_mnist_data(data_path='/data'):\n",
    "        from tensorflow.examples.tutorials.mnist import input_data\n",
    "        mnist = input_data.read_data_sets(data_path+'/MNIST_data/', one_hot=False)\n",
    "\n",
    "        X, Y = mnist.train.next_batch(mnist.train.num_examples)\n",
    "        Xval, Yval = mnist.validation.next_batch(mnist.validation.num_examples)\n",
    "        Xtest, Ytest = mnist.test.next_batch(mnist.test.num_examples)\n",
    "\n",
    "        Y, Yval, Ytest = [np.array(y, dtype=float)[:, None] for y in [Y, Yval, Ytest]]\n",
    "\n",
    "        X = np.concatenate([X, Xval], 0)\n",
    "        Y = np.concatenate([Y, Yval], 0)\n",
    "\n",
    "        return X.astype(float), Y.astype(float), Xtest.astype(float), Ytest.astype(float)\n",
    "    \n",
    "    X, Y, Xs, Ys = get_mnist_data()"
   ]
  },
  {
   "cell_type": "markdown",
   "metadata": {},
   "source": [
    "Vamos a usar 50 puntos inductores los cuales inicializaremos con el k-means. Los modelos elegidos son un variacional estocástico y DGP con 2 y 3 capas."
   ]
  },
  {
   "cell_type": "code",
   "execution_count": 15,
   "metadata": {},
   "outputs": [
    {
     "name": "stdout",
     "output_type": "stream",
     "text": [
      "784 30\n",
      "784 30\n",
      "30 30\n"
     ]
    }
   ],
   "source": [
    "M = 50\n",
    "Z = kmeans2(X, M, minit='points')[0]\n",
    "m_sgp = gpflow.models.SVGP(X, Y, gpflow.kernels.RBF(784, lengthscales=2., variance=2.), gpflow.likelihoods.MultiClass(10), \n",
    "             Z=Z, num_latent=10, minibatch_size=1000, whiten=True)\n",
    "\n",
    "\n",
    "m_dgp2 = make_multiclass_dgp(2, X, Y, 50, 10)\n",
    "m_dgp3 = make_multiclass_dgp(3, X, Y, 50, 10)"
   ]
  },
  {
   "cell_type": "markdown",
   "metadata": {},
   "source": [
    "Vamos a entrenar los modelos con 5000 iteraciones. Si usamos más puntos inductores e iteraciones conseguiremos modelos bastante mejores. Debido al tiempo de ejecución hemos optado por estos valores."
   ]
  },
  {
   "cell_type": "code",
   "execution_count": 35,
   "metadata": {},
   "outputs": [],
   "source": [
    "iterations = 5000\n",
    "gpflow.training.AdamOptimizer(0.01).minimize(m_sgp, maxiter=iterations)"
   ]
  },
  {
   "cell_type": "code",
   "execution_count": 36,
   "metadata": {},
   "outputs": [],
   "source": [
    "gpflow.training.AdamOptimizer(0.01).minimize(m_dgp2, maxiter=iterations)"
   ]
  },
  {
   "cell_type": "code",
   "execution_count": 37,
   "metadata": {},
   "outputs": [],
   "source": [
    "gpflow.training.AdamOptimizer(0.01).minimize(m_dgp3, maxiter=iterations)"
   ]
  },
  {
   "cell_type": "markdown",
   "metadata": {},
   "source": [
    "Evaluación de los modelos:"
   ]
  },
  {
   "cell_type": "code",
   "execution_count": 38,
   "metadata": {},
   "outputs": [
    {
     "name": "stdout",
     "output_type": "stream",
     "text": [
      "sgp test log-verosimilitud: -0.1569, test acc 0.9596\n"
     ]
    }
   ],
   "source": [
    "l, a = batch_assess_classification(m_sgp, assess_multiclass_sgp, Xs, Ys)\n",
    "print('sgp test log-verosimilitud: {:.4f}, test acc {:.4f}'.format(l, a))"
   ]
  },
  {
   "cell_type": "code",
   "execution_count": 39,
   "metadata": {},
   "outputs": [
    {
     "name": "stdout",
     "output_type": "stream",
     "text": [
      "DGP - 2 capas  test log-verosimilitud: -0.0905, test accuracy 0.9744\n",
      "DGP - 3 capas test log-verosimilitud: -0.0847, test accuracy 0.9773\n"
     ]
    }
   ],
   "source": [
    "l, a = batch_assess_classification(m_dgp2, assess_multiclass_dgp, Xs, Ys)\n",
    "print('DGP - 2 capas  test log-verosimilitud: {:.4f}, test accuracy {:.4f}'.format(l, a))\n",
    "\n",
    "l, a = batch_assess_classification(m_dgp3, assess_multiclass_dgp, Xs, Ys)\n",
    "print('DGP - 3 capas test log-verosimilitud: {:.4f}, test accuracy {:.4f}'.format(l, a))"
   ]
  },
  {
   "cell_type": "markdown",
   "metadata": {},
   "source": [
    "### Conclusiones del notebook"
   ]
  },
  {
   "cell_type": "markdown",
   "metadata": {},
   "source": [
    "Hemos visto que un GP podría modelar bastante bien el conjunto de datos observados. Cuando la estructura de los datos es más complicada podemos encontrar mejor los patrones subyacentes usando la versión profunda de los GPs.\n",
    "En los ejemplos visto, hemos logrado ver que la evaluación en test (error cuadrático medio o accuracy) mejoraba conforme introducimos más capas. A veces, este incremento no es tan grande como podemos ver en el ejemplo del MNIST entre el DGP de 2 y 3 capas. Pero sí vemos (como en el resto de ejemplos) un gran aumento en la log-verosimilitud media en test. Es decir, nuestro modelo \"está bastante más seguro\" de lo que predice en test a medida que introducimos más capas.\n",
    "\n",
    "En general, los DGP son complicados de entrenar (requerirán bastantes iteraciones). Y su computación es pesada por lo que el uso de puntos inductores es recomendable."
   ]
  },
  {
   "cell_type": "code",
   "execution_count": 25,
   "metadata": {},
   "outputs": [],
   "source": [
    "a=m_dgp2.predict_density(X[1:70], Y[1:70], 5)\n",
    "b,c=m_dgp2.predict_y(X[1:70], 5)\n",
    "b=b.mean(0)"
   ]
  },
  {
   "cell_type": "code",
   "execution_count": 26,
   "metadata": {},
   "outputs": [
    {
     "data": {
      "text/plain": [
       "(69, 1)"
      ]
     },
     "execution_count": 26,
     "metadata": {},
     "output_type": "execute_result"
    }
   ],
   "source": [
    "a.shape"
   ]
  },
  {
   "cell_type": "code",
   "execution_count": 27,
   "metadata": {},
   "outputs": [],
   "source": [
    "from sklearn.metrics import log_loss"
   ]
  },
  {
   "cell_type": "code",
   "execution_count": 30,
   "metadata": {},
   "outputs": [
    {
     "data": {
      "text/plain": [
       "2.3025850929940446"
      ]
     },
     "execution_count": 30,
     "metadata": {},
     "output_type": "execute_result"
    }
   ],
   "source": [
    "log_loss(Y[1:70], b)"
   ]
  },
  {
   "cell_type": "code",
   "execution_count": 31,
   "metadata": {},
   "outputs": [
    {
     "data": {
      "text/plain": [
       "array([[-2.30319295],\n",
       "       [-2.30319295],\n",
       "       [-2.30319295],\n",
       "       [-2.30319295],\n",
       "       [-2.30319295],\n",
       "       [-2.30319295],\n",
       "       [-2.30319295],\n",
       "       [-2.30319295],\n",
       "       [-2.30319295],\n",
       "       [-2.30319295],\n",
       "       [-2.30319295],\n",
       "       [-2.30319295],\n",
       "       [-2.30319295],\n",
       "       [-2.30319295],\n",
       "       [-2.30319295],\n",
       "       [-2.30319295],\n",
       "       [-2.30319295],\n",
       "       [-2.30319295],\n",
       "       [-2.30319295],\n",
       "       [-2.30319295],\n",
       "       [-2.30319295],\n",
       "       [-2.30319295],\n",
       "       [-2.30319295],\n",
       "       [-2.30319295],\n",
       "       [-2.30319295],\n",
       "       [-2.30319295],\n",
       "       [-2.30319295],\n",
       "       [-2.30319295],\n",
       "       [-2.30319295],\n",
       "       [-2.30319295],\n",
       "       [-2.30319295],\n",
       "       [-2.30319295],\n",
       "       [-2.30319295],\n",
       "       [-2.30319295],\n",
       "       [-2.30319295],\n",
       "       [-2.30319295],\n",
       "       [-2.30319295],\n",
       "       [-2.30319295],\n",
       "       [-2.30319295],\n",
       "       [-2.30319295],\n",
       "       [-2.30319295],\n",
       "       [-2.30319295],\n",
       "       [-2.30319295],\n",
       "       [-2.30319295],\n",
       "       [-2.30319295],\n",
       "       [-2.30319295],\n",
       "       [-2.30319295],\n",
       "       [-2.30319295],\n",
       "       [-2.30319295],\n",
       "       [-2.30319295],\n",
       "       [-2.30319295],\n",
       "       [-2.30319295],\n",
       "       [-2.30319295],\n",
       "       [-2.30319295],\n",
       "       [-2.30319295],\n",
       "       [-2.30319295],\n",
       "       [-2.30319295],\n",
       "       [-2.30319295],\n",
       "       [-2.30319295],\n",
       "       [-2.30319295],\n",
       "       [-2.30319295],\n",
       "       [-2.30319295],\n",
       "       [-2.30319295],\n",
       "       [-2.30319295],\n",
       "       [-2.30319295],\n",
       "       [-2.30319295],\n",
       "       [-2.30319295],\n",
       "       [-2.30319295],\n",
       "       [-2.30319295]])"
      ]
     },
     "execution_count": 31,
     "metadata": {},
     "output_type": "execute_result"
    }
   ],
   "source": [
    "a"
   ]
  },
  {
   "cell_type": "code",
   "execution_count": null,
   "metadata": {},
   "outputs": [],
   "source": [
    "Y"
   ]
  }
 ],
 "metadata": {
  "kernelspec": {
   "display_name": "Python 3",
   "language": "python",
   "name": "python3"
  },
  "language_info": {
   "codemirror_mode": {
    "name": "ipython",
    "version": 3
   },
   "file_extension": ".py",
   "mimetype": "text/x-python",
   "name": "python",
   "nbconvert_exporter": "python",
   "pygments_lexer": "ipython3",
   "version": "3.5.6"
  }
 },
 "nbformat": 4,
 "nbformat_minor": 2
}
